{
 "cells": [
  {
   "cell_type": "code",
   "execution_count": 1,
   "metadata": {},
   "outputs": [],
   "source": [
    "import sys\n",
    "sys.path.append('../src/')\n",
    "from transformers import RobertaTokenizer, RobertaConfig, RobertaForSequenceClassification\n",
    "from transformers import XLMRobertaTokenizer, XLMRobertaConfig, XLMRobertaForSequenceClassification\n",
    "from textpruner import EmbeddingPruner, TransformerPruner\n",
    "from textpruner import GeneralConfig, EmbeddingPruningConfig, TransformerPruningConfig\n",
    "from modeling import RoBERTaForGLUESimple, XLMRForGLUESimple\n",
    "import torch,os,json,tqdm\n",
    "import logging\n",
    "logger = logging.getLogger(__name__)"
   ]
  },
  {
   "cell_type": "code",
   "execution_count": 2,
   "metadata": {},
   "outputs": [],
   "source": [
    "device='cuda' #'cuda'\n",
    "output_dir='./pruned_models'\n",
    "batch_size=32\n",
    "eval_langs = ['en']\n",
    "#data_dir='/yrfs1/rc/zqyang5/Xtreme/datasets/XNLI'\n",
    "data_dir='/yrfs1/intern/jnye/Xtreme/datasets/XNLI'\n",
    "split = 'test'\n",
    "max_seq_length=128\n",
    "taskname='xnli'"
   ]
  },
  {
   "cell_type": "markdown",
   "metadata": {},
   "source": [
    "#### Init Model"
   ]
  },
  {
   "cell_type": "code",
   "execution_count": 3,
   "metadata": {},
   "outputs": [],
   "source": [
    "roberta_vocab_file='/yrfs1/rc/zqyang5/pretrained-models/roberta/large/vocab.json'\n",
    "roberta_merges_file='/yrfs1/rc/zqyang5/pretrained-models/roberta/large/merges.txt'\n",
    "roberta_config_file='/yrfs1/rc/zqyang5/pretrained-models/roberta/large/config.json'\n",
    "roberta_classification_ckpt_file ='/work/rc/zqyang5/cross-lingual/xnli/roberta/xnli_RlTrainEn_lr2e2_s4_bs32/gs18406.pkl'\n",
    "\n",
    "def init_rForSentenceClassification(config_file, vocab_file, merges_file, ckpt_file, num_labels=3):\n",
    "    tokenizer=RobertaTokenizer(vocab_file=vocab_file, merges_file=merges_file)\n",
    "    config=RobertaConfig.from_json_file(config_file)\n",
    "    config.num_labels=num_labels\n",
    "    model = RobertaForSequenceClassification.from_pretrained(ckpt_file,config=config)\n",
    "    return tokenizer,model\n",
    "\n",
    "def init_xlmrForSentenceClassification(config_file, vocab_file, ckpt_file, num_labels=3):\n",
    "    tokenizer=XLMRobertaTokenizer(vocab_file=vocab_file)\n",
    "    config=XLMRobertaConfig.from_json_file(config_file)\n",
    "    config.num_labels=num_labels\n",
    "    model = XLMRobertaForSequenceClassification.from_pretrained(ckpt_file,config=config)\n",
    "    return tokenizer,model\n",
    "\n",
    "def init_r_class_model(config_file, vocab_file, merges_file, ckpt_file, num_labels=3):\n",
    "    tokenizer=RobertaTokenizer(vocab_file=vocab_file, merges_file=merges_file)\n",
    "    config=RobertaConfig.from_pretrained(config_file)\n",
    "    model = RoBERTaForGLUESimple(config=config, num_labels=3)\n",
    "    sd = torch.load(ckpt_file,map_location='cpu')\n",
    "    a1, a2 = model.load_state_dict(sd,strict=False)\n",
    "    print (a1)\n",
    "    print (a2)\n",
    "    return tokenizer, model\n",
    "\n",
    "def init_xlmr_class_model(config_file, vocab_file, ckpt_file, num_labels=3):\n",
    "    tokenizer=XLMRobertaTokenizer(vocab_file=vocab_file)\n",
    "    config=XLMRobertaConfig.from_pretrained(config_file)\n",
    "    model = XLMRForGLUESimple(config=config, num_labels=3)\n",
    "    sd = torch.load(ckpt_file,map_location='cpu')\n",
    "    a1, a2 = model.load_state_dict(sd,strict=False)\n",
    "    print (a1)\n",
    "    print (a2)\n",
    "    return tokenizer, model\n",
    "\n",
    "#model.to(device)\n",
    "#print(\"Current Vocab size:\",tokenizer.vocab_size)\n",
    "#print(\"Current Embedding size:\", model.get_input_embeddings().weight.shape)"
   ]
  },
  {
   "cell_type": "code",
   "execution_count": 4,
   "metadata": {},
   "outputs": [
    {
     "name": "stdout",
     "output_type": "stream",
     "text": [
      "[]\n",
      "[]\n"
     ]
    }
   ],
   "source": [
    "tokenizer, model = init_r_class_model(roberta_config_file, roberta_vocab_file, roberta_merges_file, roberta_classification_ckpt_file)"
   ]
  },
  {
   "cell_type": "code",
   "execution_count": 5,
   "metadata": {},
   "outputs": [],
   "source": [
    "# from transformers import BertTokenizer \n",
    "# bert_tokenizer = BertTokenizer(vocab_file='/yrfs1/rc/zqyang5/pretrained-models/bert/base_uncased/vocab.txt')\n",
    "# print(tokenizer([(\"Hello world\",\"Goodbye!\")],max_length=10,truncation=True,padding='max_length',return_token_type_ids=True))\n",
    "# print(bert_tokenizer([(\"Hello world\",\"Goodbye!\")],max_length=10,truncation=True,padding='max_length',return_token_type_ids=True))"
   ]
  },
  {
   "cell_type": "markdown",
   "metadata": {},
   "source": [
    "# Embedding Pruning"
   ]
  },
  {
   "cell_type": "markdown",
   "metadata": {},
   "source": [
    "#### Init data: extract sentences from the datasets"
   ]
  },
  {
   "cell_type": "code",
   "execution_count": 6,
   "metadata": {},
   "outputs": [
    {
     "name": "stderr",
     "output_type": "stream",
     "text": [
      "100%|██████████| 392703/392703 [00:00<00:00, 691318.07it/s]\n"
     ]
    }
   ],
   "source": [
    "def extract_sentences_from_xnli(data_files):\n",
    "    results = []\n",
    "    for data_file in data_files:\n",
    "        with open(data_file,'r',encoding='utf-8') as f:\n",
    "            lines = f.readlines()\n",
    "        for line in tqdm.tqdm(lines):\n",
    "                fields = line.strip().split('\\t')\n",
    "                for field in fields:\n",
    "                    results.append(field)\n",
    "    return results\n",
    "\n",
    "data_files = ['./datasets/multinli.train.en.tsv']\n",
    "lines = extract_sentences_from_xnli(data_files)"
   ]
  },
  {
   "cell_type": "markdown",
   "metadata": {},
   "source": [
    "#### Init Embedding Pruner"
   ]
  },
  {
   "cell_type": "code",
   "execution_count": 7,
   "metadata": {
    "scrolled": true
   },
   "outputs": [
    {
     "name": "stderr",
     "output_type": "stream",
     "text": [
      "100%|██████████| 1178109/1178109 [03:53<00:00, 5035.51it/s]\n"
     ]
    }
   ],
   "source": [
    "general_config = GeneralConfig(output_dir='pruned_models-mysimple')\n",
    "embedding_pruner = EmbeddingPruner(model, tokenizer, general_config=general_config, base_model_prefix='roberta')\n",
    "embedding_pruner.prune_embeddings(dataiter=lines)\n",
    "# embedding_pruner.prune_embeddings(dataiter=[\"hello\", \"world\"])"
   ]
  },
  {
   "cell_type": "code",
   "execution_count": 8,
   "metadata": {},
   "outputs": [
    {
     "name": "stdout",
     "output_type": "stream",
     "text": [
      "New embedding size: torch.Size([42002, 1024])\n",
      "New embedding size 42002 pruned vocab file has been saved to pruned_models-mysimple/pruned_42002V/vocab.json. Reintialize the tokenizer!\n"
     ]
    }
   ],
   "source": [
    "print(\"New embedding size:\", embedding_pruner.base_model.get_input_embeddings().weight.shape)\n",
    "embedding_pruner.save_model()"
   ]
  },
  {
   "cell_type": "markdown",
   "metadata": {},
   "source": [
    "#### reload"
   ]
  },
  {
   "cell_type": "code",
   "execution_count": 9,
   "metadata": {},
   "outputs": [
    {
     "name": "stdout",
     "output_type": "stream",
     "text": [
      "[]\n",
      "[]\n",
      "New vocab size: 42002\n"
     ]
    }
   ],
   "source": [
    "pruned_tokenizer, pruned_model = init_r_class_model(\n",
    "    config_file='./pruned_models-mysimple/pruned_42002V/config.json',\n",
    "    vocab_file='./pruned_models-mysimple/pruned_42002V/vocab.json',\n",
    "    merges_file='./pruned_models-mysimple/pruned_42002V/merges.txt',\n",
    "    ckpt_file='./pruned_models-mysimple/pruned_42002V/model.pkl')\n",
    "\n",
    "# pruned_tokenizer, pruned_model = init_r_class_model(\n",
    "#     config_file=roberta_config_file,\n",
    "#     vocab_file=roberta_vocab_file,\n",
    "#     merges_file=roberta_merges_file,\n",
    "#     ckpt_file=roberta_classification_ckpt_file)\n",
    "\n",
    "# pruned_tokenizer, pruned_model = init_xlmr_class_model(\n",
    "#     config_file='./pruned_models-mysimple/pruned_23553V/config.json',\n",
    "#     vocab_file='./pruned_models-mysimple/pruned_23553V/sentencepiece.bpe.model',\n",
    "#     ckpt_file='./pruned_models-mysimple/pruned_23553V/model.pkl')\n",
    "\n",
    "pruned_model.to(device)\n",
    "print(\"New vocab size:\", pruned_tokenizer.vocab_size)\n",
    "# num_embeddings, embedding_size = 42002, 1024"
   ]
  },
  {
   "cell_type": "markdown",
   "metadata": {},
   "source": [
    "# Measure Performance"
   ]
  },
  {
   "cell_type": "code",
   "execution_count": 10,
   "metadata": {},
   "outputs": [],
   "source": [
    "from predict_function import predict\n",
    "def measure_performance(model, eval_datasets,eval_langs,output_dir, device, predict_batch_size, head_mask=None, ffn_mask=None, base_model_prefix=None):\n",
    "    if base_model_prefix is not None:\n",
    "        base_model = getattr(model, base_model_prefix, model)\n",
    "    else:\n",
    "        if hasattr(model, 'base_model_prefix'):\n",
    "            base_model = getattr(model, model.base_model_prefix, model)\n",
    "        else:\n",
    "            raise ValueError(\"Cannot infer/get model_type! Maybe you should provide base_model_prefix\") \n",
    "    n_layers = base_model.config.num_hidden_layers\n",
    "    inter_weights = []\n",
    "    inter_biases = []\n",
    "    output_weights = []\n",
    "    layers = base_model.encoder.layer\n",
    "    if ffn_mask is not None:\n",
    "        print(\"Masking intermediate FFN\")\n",
    "        for layer_num in range(n_layers):\n",
    "                inter_weights.append(layers[layer_num].intermediate.dense.weight.data.clone()) #.detach().to(device)\n",
    "                inter_biases.append(layers[layer_num].intermediate.dense.bias.data.clone()) #.detach().to(device)\n",
    "                output_weights.append(layers[layer_num].output.dense.weight.data.clone()) #.detach().to(device)\n",
    "\n",
    "                layers[layer_num].intermediate.dense.weight.data *= ffn_mask[layer_num].unsqueeze(1)\n",
    "                layers[layer_num].intermediate.dense.bias.data *= ffn_mask[layer_num]\n",
    "                layers[layer_num].output.dense.weight.data *= ffn_mask[layer_num].unsqueeze(0)\n",
    "\n",
    "    res = predict(model,eval_datasets,step=0,eval_langs=eval_langs,output_dir=output_dir,\n",
    "                   device=device, predict_batch_size=predict_batch_size, head_mask = head_mask, in_lang = None)\n",
    "    # restore intermediate ffn weight TODO\n",
    "    if ffn_mask is not None:\n",
    "        for layer_num in range(n_layers):\n",
    "                layers[layer_num].intermediate.dense.weight.data.copy_(inter_weights[layer_num])\n",
    "                layers[layer_num].intermediate.dense.bias.data.copy_(inter_biases[layer_num])\n",
    "                layers[layer_num].output.dense.weight.data.copy_(output_weights[layer_num])\n",
    "\n",
    "    \n",
    "    if head_mask is not None:\n",
    "        print (head_mask)\n",
    "        print (f\"number of heads: {head_mask.sum()}/{head_mask.view(-1).size(0)}\")\n",
    "        num_heads_per_layer = head_mask.sum(dim=-1)\n",
    "        print (f\"Min/Max number of heads per layer: {num_heads_per_layer.min()}, {num_heads_per_layer.max()}\")\n",
    "    if ffn_mask is not None:\n",
    "        print (f\"ffn size: {ffn_mask.sum()}/{ffn_mask.view(-1).size(0)}\")\n",
    "        ffn_size_per_layer = ffn_mask.sum(dim=-1)\n",
    "        print (f\"Min/Max number of ffn per layer: {ffn_size_per_layer.min()}, {ffn_size_per_layer.max()}\")\n",
    "    print (f\"Performance: {res}\")\n",
    "    metric_filename = os.path.join(output_dir, f'eval_results.txt')\n",
    "    with open(metric_filename,'a') as f:\n",
    "        if head_mask is not None:\n",
    "            line = f\"{head_mask.sum()}/{head_mask.view(-1).size(0)} {res}\\n\"\n",
    "        else:\n",
    "            line = f\"Full-Head {res}\\n\"\n",
    "        f.write(line)"
   ]
  },
  {
   "cell_type": "code",
   "execution_count": 11,
   "metadata": {},
   "outputs": [
    {
     "name": "stdout",
     "output_type": "stream",
     "text": [
      "Init NLIDataset\n"
     ]
    }
   ],
   "source": [
    "from utils import MultilingualNLIDataset\n",
    "from torch.utils.data import DataLoader, SequentialSampler\n",
    "\n",
    "eval_dataset = MultilingualNLIDataset(\n",
    "    task=taskname, data_dir=data_dir, split=split, prefix='xlmrbase_pruned',\n",
    "    max_seq_length=max_seq_length, langs=eval_langs, local_rank=-1, tokenizer=pruned_tokenizer)\n",
    "eval_sampler = SequentialSampler(eval_dataset)\n",
    "eval_dataloader = DataLoader(eval_dataset, sampler=eval_sampler, batch_size=batch_size)\n",
    "eval_datasets = [eval_dataset.lang_datasets[lang] for lang in eval_langs]\n"
   ]
  },
  {
   "cell_type": "code",
   "execution_count": 12,
   "metadata": {},
   "outputs": [
    {
     "name": "stdout",
     "output_type": "stream",
     "text": [
      "1 5010 4\n"
     ]
    }
   ],
   "source": [
    "print(len(eval_datasets),len(eval_dataset),len(eval_dataset[0]))"
   ]
  },
  {
   "cell_type": "code",
   "execution_count": 13,
   "metadata": {},
   "outputs": [
    {
     "name": "stderr",
     "output_type": "stream",
     "text": [
      "Evaluating: 100%|██████████| 157/157 [01:41<00:00,  1.54it/s]"
     ]
    },
    {
     "name": "stdout",
     "output_type": "stream",
     "text": [
      "Performance: {'en': {'acc': 0.9057884231536926}}\n"
     ]
    },
    {
     "name": "stderr",
     "output_type": "stream",
     "text": [
      "\n"
     ]
    }
   ],
   "source": [
    "# evaluation result of the pruned roberta model\n",
    "measure_performance(pruned_model, eval_datasets, eval_langs,output_dir, device, batch_size, base_model_prefix='roberta')"
   ]
  },
  {
   "cell_type": "code",
   "execution_count": 8,
   "metadata": {},
   "outputs": [
    {
     "name": "stderr",
     "output_type": "stream",
     "text": [
      "Evaluating: 100%|██████████| 157/157 [01:41<00:00,  1.54it/s]"
     ]
    },
    {
     "name": "stdout",
     "output_type": "stream",
     "text": [
      "Performance: {'en': {'acc': 0.9107784431137724}}\n"
     ]
    },
    {
     "name": "stderr",
     "output_type": "stream",
     "text": [
      "\n"
     ]
    }
   ],
   "source": [
    "# evaluation result of the original roberta model\n",
    "measure_performance(pruned_model, eval_datasets, eval_langs, output_dir, device, batch_size, base_model_prefix='roberta')"
   ]
  },
  {
   "cell_type": "markdown",
   "metadata": {},
   "source": [
    "# Transformer Pruning"
   ]
  },
  {
   "cell_type": "code",
   "execution_count": 14,
   "metadata": {},
   "outputs": [],
   "source": [
    "# from utils import MultilingualNLIDataset\n",
    "# from torch.utils.data import DataLoader, SequentialSampler\n",
    "\n",
    "# eval_dataset = MultilingualNLIDataset(\n",
    "#     task=taskname, data_dir=data_dir, split=split, prefix='xlmrbase',\n",
    "#     max_seq_length=max_seq_length, langs=eval_langs, local_rank=-1, tokenizer=tokenizer)\n",
    "# eval_sampler = SequentialSampler(eval_dataset)\n",
    "# eval_dataloader = DataLoader(eval_dataset, sampler=eval_sampler, batch_size=batch_size)"
   ]
  },
  {
   "cell_type": "markdown",
   "metadata": {},
   "source": [
    "#### Init Transofmer Pruner"
   ]
  },
  {
   "cell_type": "code",
   "execution_count": 14,
   "metadata": {},
   "outputs": [],
   "source": [
    "general_config = GeneralConfig(output_dir='pruned_models-mysimple')\n",
    "transformer_pruning_config = TransformerPruningConfig(\n",
    "    ffn_size=2048, num_of_heads=9)\n",
    "transformer_pruner = TransformerPruner(\n",
    "    pruned_model,general_config,\n",
    "    transformer_pruning_config=transformer_pruning_config, base_model_prefix='roberta')"
   ]
  },
  {
   "cell_type": "markdown",
   "metadata": {},
   "source": [
    "#### Define aux functions"
   ]
  },
  {
   "cell_type": "code",
   "execution_count": 15,
   "metadata": {},
   "outputs": [],
   "source": [
    "def adaptor(model_outputs, batch):\n",
    "    return {'loss':model_outputs[-1]}\n",
    "def batch_postprocessor(batch):\n",
    "    input_ids, attention_mask, token_type_ids, labels = batch\n",
    "    return {'input_ids':input_ids, 'attention_mask':attention_mask, \n",
    "            'token_type_ids':token_type_ids, 'labels':labels}"
   ]
  },
  {
   "cell_type": "code",
   "execution_count": 16,
   "metadata": {},
   "outputs": [
    {
     "ename": "RuntimeError",
     "evalue": "CUDA error: device-side assert triggered",
     "output_type": "error",
     "traceback": [
      "\u001b[0;31m---------------------------------------------------------------------------\u001b[0m",
      "\u001b[0;31mRuntimeError\u001b[0m                              Traceback (most recent call last)",
      "\u001b[0;32m<ipython-input-16-b28975a60239>\u001b[0m in \u001b[0;36m<module>\u001b[0;34m()\u001b[0m\n\u001b[1;32m      1\u001b[0m \u001b[0;31m#transformer_pruner.prune_transformer_with_masks(head_mask=transformer_pruner.head_mask,ffn_mask=transformer_pruner.ffn_mask)\u001b[0m\u001b[0;34m\u001b[0m\u001b[0;34m\u001b[0m\u001b[0m\n\u001b[0;32m----> 2\u001b[0;31m \u001b[0mtransformer_pruner\u001b[0m\u001b[0;34m.\u001b[0m\u001b[0mprune_transformer\u001b[0m\u001b[0;34m(\u001b[0m\u001b[0meval_dataloader\u001b[0m\u001b[0;34m,\u001b[0m\u001b[0madaptor\u001b[0m\u001b[0;34m,\u001b[0m\u001b[0mbatch_postprocessor\u001b[0m\u001b[0;34m)\u001b[0m\u001b[0;34m\u001b[0m\u001b[0m\n\u001b[0m",
      "\u001b[0;32m/yrfs1/intern/jnye/TextPruner/src/textpruner/transformer_pruner.py\u001b[0m in \u001b[0;36mprune_transformer\u001b[0;34m(self, dataloader, adaptor, batch_postprocessor, keep_weights)\u001b[0m\n\u001b[1;32m     47\u001b[0m     \u001b[0;32mdef\u001b[0m \u001b[0mprune_transformer\u001b[0m\u001b[0;34m(\u001b[0m\u001b[0mself\u001b[0m\u001b[0;34m,\u001b[0m \u001b[0mdataloader\u001b[0m\u001b[0;34m,\u001b[0m \u001b[0madaptor\u001b[0m\u001b[0;34m,\u001b[0m \u001b[0mbatch_postprocessor\u001b[0m\u001b[0;34m,\u001b[0m \u001b[0mkeep_weights\u001b[0m\u001b[0;34m=\u001b[0m\u001b[0;32mFalse\u001b[0m\u001b[0;34m)\u001b[0m\u001b[0;34m:\u001b[0m\u001b[0;34m\u001b[0m\u001b[0m\n\u001b[1;32m     48\u001b[0m         \u001b[0;32mif\u001b[0m \u001b[0mself\u001b[0m\u001b[0;34m.\u001b[0m\u001b[0mtransformer_pruning_config\u001b[0m\u001b[0;34m.\u001b[0m\u001b[0mis_iterative\u001b[0m \u001b[0;32mis\u001b[0m \u001b[0;32mFalse\u001b[0m\u001b[0;34m:\u001b[0m\u001b[0;34m\u001b[0m\u001b[0m\n\u001b[0;32m---> 49\u001b[0;31m             \u001b[0mself\u001b[0m\u001b[0;34m.\u001b[0m\u001b[0mprune_transformer_once\u001b[0m\u001b[0;34m(\u001b[0m\u001b[0mdataloader\u001b[0m\u001b[0;34m,\u001b[0m \u001b[0madaptor\u001b[0m\u001b[0;34m,\u001b[0m \u001b[0mbatch_postprocessor\u001b[0m\u001b[0;34m,\u001b[0m \u001b[0mkeep_weights\u001b[0m\u001b[0;34m=\u001b[0m\u001b[0mkeep_weights\u001b[0m\u001b[0;34m)\u001b[0m\u001b[0;34m\u001b[0m\u001b[0m\n\u001b[0m\u001b[1;32m     50\u001b[0m         \u001b[0;32melse\u001b[0m\u001b[0;34m:\u001b[0m\u001b[0;34m\u001b[0m\u001b[0m\n\u001b[1;32m     51\u001b[0m             \u001b[0mself\u001b[0m\u001b[0;34m.\u001b[0m\u001b[0mprune_transformer_iterative\u001b[0m\u001b[0;34m(\u001b[0m\u001b[0mdataloader\u001b[0m\u001b[0;34m,\u001b[0m \u001b[0madaptor\u001b[0m\u001b[0;34m,\u001b[0m \u001b[0mbatch_postprocessor\u001b[0m\u001b[0;34m,\u001b[0m \u001b[0mkeep_weights\u001b[0m\u001b[0;34m=\u001b[0m\u001b[0mkeep_weights\u001b[0m\u001b[0;34m)\u001b[0m\u001b[0;34m\u001b[0m\u001b[0m\n",
      "\u001b[0;32m/yrfs1/intern/jnye/TextPruner/src/textpruner/transformer_pruner.py\u001b[0m in \u001b[0;36mprune_transformer_once\u001b[0;34m(self, dataloader, adaptor, batch_postprocessor, keep_weights)\u001b[0m\n\u001b[1;32m    109\u001b[0m         \u001b[0;32mif\u001b[0m \u001b[0mkeep_weights\u001b[0m \u001b[0;32mis\u001b[0m \u001b[0;32mFalse\u001b[0m\u001b[0;34m:\u001b[0m\u001b[0;34m\u001b[0m\u001b[0m\n\u001b[1;32m    110\u001b[0m             \u001b[0mlogger\u001b[0m\u001b[0;34m.\u001b[0m\u001b[0minfo\u001b[0m\u001b[0;34m(\u001b[0m\u001b[0;34m\"Remove redundant weights from the model\"\u001b[0m\u001b[0;34m)\u001b[0m\u001b[0;34m\u001b[0m\u001b[0m\n\u001b[0;32m--> 111\u001b[0;31m             \u001b[0mself\u001b[0m\u001b[0;34m.\u001b[0m\u001b[0mprune_transformer_with_masks\u001b[0m\u001b[0;34m(\u001b[0m\u001b[0;34m)\u001b[0m\u001b[0;34m\u001b[0m\u001b[0m\n\u001b[0m\u001b[1;32m    112\u001b[0m \u001b[0;34m\u001b[0m\u001b[0m\n\u001b[1;32m    113\u001b[0m     \u001b[0;32mdef\u001b[0m \u001b[0msave_masks\u001b[0m\u001b[0;34m(\u001b[0m\u001b[0mself\u001b[0m\u001b[0;34m)\u001b[0m\u001b[0;34m:\u001b[0m\u001b[0;34m\u001b[0m\u001b[0m\n",
      "\u001b[0;32m/yrfs1/intern/jnye/TextPruner/src/textpruner/transformer_pruner.py\u001b[0m in \u001b[0;36mprune_transformer_with_masks\u001b[0;34m(self, head_mask, ffn_mask)\u001b[0m\n\u001b[1;32m     58\u001b[0m \u001b[0;34m\u001b[0m\u001b[0m\n\u001b[1;32m     59\u001b[0m         \u001b[0;32mif\u001b[0m \u001b[0mffn_mask\u001b[0m \u001b[0;32mis\u001b[0m \u001b[0;32mnot\u001b[0m \u001b[0;32mNone\u001b[0m\u001b[0;34m:\u001b[0m\u001b[0;34m\u001b[0m\u001b[0m\n\u001b[0;32m---> 60\u001b[0;31m             \u001b[0mffn_mask_tensor\u001b[0m \u001b[0;34m=\u001b[0m \u001b[0mtorch\u001b[0m\u001b[0;34m.\u001b[0m\u001b[0mtensor\u001b[0m\u001b[0;34m(\u001b[0m\u001b[0mffn_mask\u001b[0m\u001b[0;34m)\u001b[0m\u001b[0;34m.\u001b[0m\u001b[0mto\u001b[0m\u001b[0;34m(\u001b[0m\u001b[0mdtype\u001b[0m\u001b[0;34m=\u001b[0m\u001b[0mtorch\u001b[0m\u001b[0;34m.\u001b[0m\u001b[0mfloat32\u001b[0m\u001b[0;34m,\u001b[0m \u001b[0mdevice\u001b[0m\u001b[0;34m=\u001b[0m\u001b[0mself\u001b[0m\u001b[0;34m.\u001b[0m\u001b[0mgeneral_config\u001b[0m\u001b[0;34m.\u001b[0m\u001b[0mdevice\u001b[0m\u001b[0;34m)\u001b[0m\u001b[0;34m\u001b[0m\u001b[0m\n\u001b[0m\u001b[1;32m     61\u001b[0m             \u001b[0mreorder_ffn_weights\u001b[0m\u001b[0;34m(\u001b[0m\u001b[0mself\u001b[0m\u001b[0;34m.\u001b[0m\u001b[0mbase_model\u001b[0m\u001b[0;34m,\u001b[0m \u001b[0mffn_mask_tensor\u001b[0m\u001b[0;34m)\u001b[0m\u001b[0;34m\u001b[0m\u001b[0m\n\u001b[1;32m     62\u001b[0m         \u001b[0;32mif\u001b[0m \u001b[0mhead_mask\u001b[0m \u001b[0;32mis\u001b[0m \u001b[0;32mnot\u001b[0m \u001b[0;32mNone\u001b[0m\u001b[0;34m:\u001b[0m\u001b[0;34m\u001b[0m\u001b[0m\n",
      "\u001b[0;31mRuntimeError\u001b[0m: CUDA error: device-side assert triggered"
     ]
    }
   ],
   "source": [
    "#transformer_pruner.prune_transformer_with_masks(head_mask=transformer_pruner.head_mask,ffn_mask=transformer_pruner.ffn_mask)\n",
    "transformer_pruner.prune_transformer(eval_dataloader,adaptor,batch_postprocessor)"
   ]
  },
  {
   "cell_type": "code",
   "execution_count": 17,
   "metadata": {},
   "outputs": [],
   "source": [
    "transformer_pruner.save_model()\n",
    "#transformer_pruner.save_masks()"
   ]
  },
  {
   "cell_type": "code",
   "execution_count": 18,
   "metadata": {},
   "outputs": [
    {
     "name": "stdout",
     "output_type": "stream",
     "text": [
      "[]\n",
      "[]\n"
     ]
    }
   ],
   "source": [
    "#new_model=XLMRobertaForSequenceClassification.from_pretrained('./pruned_models/pruned_108H2048FFN/model.pkl',config='./pruned_models/pruned_108H2048FFN/config.json')\n",
    "pruned_tokenizer, pruned_model = init_xlmr_class_model(\n",
    "    config_file='./pruned_models-mysimple/pruned_108H2048FFN/config.json',\n",
    "    vocab_file='./pruned_models-mysimple/pruned_23553V/sentencepiece.bpe.model',\n",
    "    ckpt_file='./pruned_models-mysimple/pruned_108H2048FFN/model.pkl')\n",
    "\n",
    "#pruned_model.to(device)\n",
    "\n",
    "#XLMRobertaForSequenceClassification.from_pretrained('./pruned_models/pruned_108H2048FFN/model.pkl',config='./pruned_models/pruned_108H2048FFN/config.json')"
   ]
  },
  {
   "cell_type": "code",
   "execution_count": 19,
   "metadata": {},
   "outputs": [],
   "source": [
    "from transformers import XLMRobertaModel\n",
    "config1 = XLMRobertaConfig.from_pretrained('./pruned_models/pruned_108H2048FFN/config.json')\n",
    "config2 = XLMRobertaConfig.from_json_file('./pruned_models/pruned_108H2048FFN/config.json')\n",
    "\n",
    "#for key in config1.__dict__.keys():\n",
    "#    if not (config1.__dict__[key]==config2.__dict__[key]):\n",
    "#        print (config1.__dict__[key],config2.__dict__[key])"
   ]
  },
  {
   "cell_type": "markdown",
   "metadata": {},
   "source": [
    "## Measure performance"
   ]
  },
  {
   "cell_type": "code",
   "execution_count": 20,
   "metadata": {},
   "outputs": [
    {
     "name": "stderr",
     "output_type": "stream",
     "text": [
      "Evaluating: 100%|██████████| 157/157 [00:23<00:00,  6.79it/s]"
     ]
    },
    {
     "name": "stdout",
     "output_type": "stream",
     "text": [
      "Performance: {'zh': {'acc': 0.729940119760479}}\n"
     ]
    },
    {
     "name": "stderr",
     "output_type": "stream",
     "text": [
      "\n"
     ]
    }
   ],
   "source": [
    "pruned_model.to(device)\n",
    "measure_performance(pruned_model, eval_datasets, eval_langs,output_dir, device, batch_size,base_model_prefix='roberta') #, ffn_mask=ffn_mask,head_mask =head_mask)"
   ]
  },
  {
   "cell_type": "code",
   "execution_count": null,
   "metadata": {},
   "outputs": [],
   "source": []
  }
 ],
 "metadata": {
  "kernelspec": {
   "display_name": "Python 3",
   "language": "python",
   "name": "python3"
  },
  "language_info": {
   "codemirror_mode": {
    "name": "ipython",
    "version": 3
   },
   "file_extension": ".py",
   "mimetype": "text/x-python",
   "name": "python",
   "nbconvert_exporter": "python",
   "pygments_lexer": "ipython3",
   "version": "3.7.0"
  }
 },
 "nbformat": 4,
 "nbformat_minor": 4
}
