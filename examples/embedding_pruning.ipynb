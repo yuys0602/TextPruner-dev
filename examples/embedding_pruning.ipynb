{
 "cells": [
  {
   "cell_type": "code",
   "execution_count": 1,
   "metadata": {},
   "outputs": [],
   "source": [
    "from transformers import XLMRobertaTokenizer, XLMRobertaConfig, XLMRobertaForSequenceClassification\n",
    "from textpruner import EmbeddingPruner, TransformerPruner\n",
    "from textpruner import GeneralConfig, EmbeddingPruningConfig, TransformerPruningConfig"
   ]
  },
  {
   "cell_type": "code",
   "execution_count": 2,
   "metadata": {},
   "outputs": [],
   "source": [
    "import torch,os,json,tqdm\n",
    "import logging\n",
    "# Setup logging\n",
    "logging.basicConfig(\n",
    "    format='%(asctime)s - %(levelname)s - %(name)s - %(message)s',\n",
    "    level=logging.INFO,)\n",
    "logger = logging.getLogger(__name__)\n"
   ]
  },
  {
   "cell_type": "code",
   "execution_count": 3,
   "metadata": {},
   "outputs": [],
   "source": [
    "device='cuda' #'cuda'\n",
    "output_dir='./pruned_models'\n",
    "batch_size=32\n",
    "eval_langs = ['zh']\n",
    "data_dir='/yrfs1/rc/zqyang5/Xtreme/datasets/XNLI'\n",
    "split = 'test'\n",
    "max_seq_length=128\n",
    "taskname='xnli'"
   ]
  },
  {
   "cell_type": "markdown",
   "metadata": {},
   "source": [
    "#### Init Model"
   ]
  },
  {
   "cell_type": "code",
   "execution_count": 4,
   "metadata": {},
   "outputs": [
    {
     "name": "stderr",
     "output_type": "stream",
     "text": [
      "2021-06-25 11:08:35,515 - INFO - transformers.modeling_utils - loading weights file /work/rc/zqyang5/for_pruning/xnli/xnli_zhTrainXb_lr2e4_s4_bs32/gs49084.pkl\n",
      "2021-06-25 11:08:55,327 - INFO - transformers.modeling_utils - All model checkpoint weights were used when initializing XLMRobertaForSequenceClassification.\n",
      "\n",
      "2021-06-25 11:08:55,329 - INFO - transformers.modeling_utils - All the weights of XLMRobertaForSequenceClassification were initialized from the model checkpoint at /work/rc/zqyang5/for_pruning/xnli/xnli_zhTrainXb_lr2e4_s4_bs32/gs49084.pkl.\n",
      "If your task is similar to the task the model of the ckeckpoint was trained on, you can already use XLMRobertaForSequenceClassification for predictions without further training.\n"
     ]
    },
    {
     "name": "stdout",
     "output_type": "stream",
     "text": [
      "Current Vocab size: 250002\n",
      "Current Embedding size: torch.Size([250002, 768])\n"
     ]
    }
   ],
   "source": [
    "#from modeling import XLMRForGLUESimple\n",
    "#xlmr_class_ckpt_file='/work/rc/zqyang5/cross-lingual/xnli/xlmr/xnli_XbTrainEn_lr3e4_s4_bs32/gs42948.pkl'\n",
    "xlmr_vocab_file='./pretrained-models/xlm-r-base/sentencepiece.bpe.model'\n",
    "xlmr_config_file='./pretrained-models/xlm-r-base/config.json'\n",
    "xlmr_ckpt_file = './pretrained-models/xlm-r-base/pytorch_model.bin'\n",
    "xlmr_classification_ckpt_file ='/work/rc/zqyang5/for_pruning/xnli/xnli_zhTrainXb_lr2e4_s4_bs32/gs49084.pkl'\n",
    "\n",
    "def init_xlmrForSentenceClassification(config_file=None, vocab_file=None, ckpt_file=None, num_labels=3):\n",
    "    tokenizer, model = None, None\n",
    "    if vocab_file is not None:\n",
    "        tokenizer=XLMRobertaTokenizer(vocab_file=vocab_file)\n",
    "    if config_file is not None:\n",
    "        config=XLMRobertaConfig.from_json_file(config_file)\n",
    "        config.num_labels=num_labels\n",
    "        if ckpt_file is not None:\n",
    "            model = XLMRobertaForSequenceClassification.from_pretrained(ckpt_file,config=config)\n",
    "        else:\n",
    "            model = XLMRobertaForSequenceClassification(config=config)\n",
    "    return tokenizer,model\n",
    "\n",
    "\n",
    "tokenizer, model = init_xlmrForSentenceClassification(\n",
    "    xlmr_config_file, \n",
    "    xlmr_vocab_file, \n",
    "    xlmr_classification_ckpt_file,\n",
    "    num_labels=3)\n",
    "model.to(device)\n",
    "print(\"Current Vocab size:\",tokenizer.vocab_size)\n",
    "print(\"Current Embedding size:\", model.get_input_embeddings().weight.shape)\n",
    "\n"
   ]
  },
  {
   "cell_type": "code",
   "execution_count": 5,
   "metadata": {},
   "outputs": [],
   "source": [
    "# from transformers import BertTokenizer \n",
    "# bert_tokenizer = BertTokenizer(vocab_file='/yrfs1/rc/zqyang5/pretrained-models/bert/base_uncased/vocab.txt')\n",
    "# print(tokenizer([(\"Hello world\",\"Goodbye!\")],max_length=10,truncation=True,padding='max_length',return_token_type_ids=True))\n",
    "# print(bert_tokenizer([(\"Hello world\",\"Goodbye!\")],max_length=10,truncation=True,padding='max_length',return_token_type_ids=True))"
   ]
  },
  {
   "cell_type": "markdown",
   "metadata": {},
   "source": [
    "# Embedding Pruning"
   ]
  },
  {
   "cell_type": "markdown",
   "metadata": {},
   "source": [
    "#### Init data: extract sentences from the datasets"
   ]
  },
  {
   "cell_type": "code",
   "execution_count": 7,
   "metadata": {},
   "outputs": [
    {
     "name": "stderr",
     "output_type": "stream",
     "text": [
      "100%|██████████| 392703/392703 [00:00<00:00, 601176.19it/s]\n"
     ]
    },
    {
     "name": "stdout",
     "output_type": "stream",
     "text": [
      "Number of lines:  1178109\n",
      "Example:我 团队 的 一个 成员 将 非常 精确 地 执行 你 的 命令\n"
     ]
    }
   ],
   "source": [
    "def extract_sentences_from_xnli(data_files):\n",
    "    results = []\n",
    "    for data_file in data_files:\n",
    "        with open(data_file,'r',encoding='utf-8') as f:\n",
    "            lines = f.readlines()\n",
    "        for line in tqdm.tqdm(lines):\n",
    "                fields = line.strip().split('\\t')\n",
    "                for field in fields:\n",
    "                    results.append(field)\n",
    "    return results\n",
    "\n",
    "data_files = ['./datasets/multinli.train.zh.tsv'] #,'./datasets/multinli.train.zh.tsv']\n",
    "lines = extract_sentences_from_xnli(data_files)\n",
    "print(\"Number of lines: \", len(lines))\n",
    "print(f\"Example:{lines[10]}\")"
   ]
  },
  {
   "cell_type": "markdown",
   "metadata": {},
   "source": [
    "#### Init Embedding Pruner"
   ]
  },
  {
   "cell_type": "code",
   "execution_count": 8,
   "metadata": {
    "scrolled": true
   },
   "outputs": [
    {
     "name": "stderr",
     "output_type": "stream",
     "text": [
      "2021-06-25 11:09:18,268 - INFO - textpruner.configurations - Using current cuda device\n",
      "2021-06-25 11:09:18,269 - INFO - textpruner.configurations - Using current cuda device\n"
     ]
    }
   ],
   "source": [
    "general_config = GeneralConfig()\n",
    "embedding_pruning_config = EmbeddingPruningConfig()\n",
    "embedding_pruner = EmbeddingPruner(model, tokenizer)"
   ]
  },
  {
   "cell_type": "code",
   "execution_count": 9,
   "metadata": {
    "scrolled": true
   },
   "outputs": [
    {
     "name": "stderr",
     "output_type": "stream",
     "text": [
      "100%|██████████| 1178109/1178109 [03:02<00:00, 6449.16it/s]\n"
     ]
    }
   ],
   "source": [
    "embedding_pruner.prune_embeddings(dataiter=lines)"
   ]
  },
  {
   "cell_type": "code",
   "execution_count": 10,
   "metadata": {},
   "outputs": [
    {
     "name": "stdout",
     "output_type": "stream",
     "text": [
      "New embedding size: torch.Size([23553, 768])\n",
      "New embedding size 23553 pruned vocab file has been saved to ./pruned_models/pruned_23553V/sentencepiece.bpe.model. Reintialize the tokenizer!\n"
     ]
    },
    {
     "name": "stderr",
     "output_type": "stream",
     "text": [
      "2021-06-25 11:12:28,147 - INFO - transformers.configuration_utils - Configuration saved in ./pruned_models/pruned_23553V/config.json\n",
      "2021-06-25 11:12:28,148 - INFO - textpruner.embedding_pruner - Model and configuration have been saved to ./pruned_models/pruned_23553V\n"
     ]
    }
   ],
   "source": [
    "print(\"New embedding size:\", model.get_input_embeddings().weight.shape)\n",
    "embedding_pruner.save_model()"
   ]
  },
  {
   "cell_type": "markdown",
   "metadata": {},
   "source": [
    "#### reload"
   ]
  },
  {
   "cell_type": "code",
   "execution_count": 11,
   "metadata": {},
   "outputs": [
    {
     "name": "stderr",
     "output_type": "stream",
     "text": [
      "2021-06-25 11:12:33,240 - INFO - transformers.modeling_utils - loading weights file ./pruned_models/pruned_23553V/model.pkl\n",
      "2021-06-25 11:12:39,177 - INFO - transformers.modeling_utils - All model checkpoint weights were used when initializing XLMRobertaForSequenceClassification.\n",
      "\n",
      "2021-06-25 11:12:39,178 - INFO - transformers.modeling_utils - All the weights of XLMRobertaForSequenceClassification were initialized from the model checkpoint at ./pruned_models/pruned_23553V/model.pkl.\n",
      "If your task is similar to the task the model of the ckeckpoint was trained on, you can already use XLMRobertaForSequenceClassification for predictions without further training.\n"
     ]
    },
    {
     "name": "stdout",
     "output_type": "stream",
     "text": [
      "New vocab size: 23553\n"
     ]
    }
   ],
   "source": [
    "pruned_tokenizer, pruned_model = init_xlmrForSentenceClassification(\n",
    "    config_file='./pruned_models/pruned_23553V/config.json',\n",
    "    vocab_file='./pruned_models/pruned_23553V/sentencepiece.bpe.model',\n",
    "    ckpt_file='./pruned_models/pruned_23553V/model.pkl')\n",
    "\n",
    "pruned_model.to(device)\n",
    "print(\"New vocab size:\", pruned_tokenizer.vocab_size)"
   ]
  },
  {
   "cell_type": "markdown",
   "metadata": {},
   "source": [
    "# Measure Performance"
   ]
  },
  {
   "cell_type": "code",
   "execution_count": 12,
   "metadata": {},
   "outputs": [],
   "source": [
    "from predict_function import predict\n",
    "def measure_performance(model, eval_datasets,eval_langs,output_dir, device, predict_batch_size, head_mask=None, ffn_mask=None):\n",
    "    base_model = getattr(model, model.base_model_prefix, model)\n",
    "    n_layers = base_model.config.num_hidden_layers\n",
    "    inter_weights = []\n",
    "    inter_biases = []\n",
    "    output_weights = []\n",
    "    layers = base_model.encoder.layer\n",
    "    if ffn_mask is not None:\n",
    "        print(\"Masking intermediate FFN\")\n",
    "        for layer_num in range(n_layers):\n",
    "                inter_weights.append(layers[layer_num].intermediate.dense.weight.data.clone()) #.detach().to(device)\n",
    "                inter_biases.append(layers[layer_num].intermediate.dense.bias.data.clone()) #.detach().to(device)\n",
    "                output_weights.append(layers[layer_num].output.dense.weight.data.clone()) #.detach().to(device)\n",
    "                \n",
    "                layers[layer_num].intermediate.dense.weight.data *= ffn_mask[layer_num].unsqueeze(1)\n",
    "                layers[layer_num].intermediate.dense.bias.data *= ffn_mask[layer_num]\n",
    "                layers[layer_num].output.dense.weight.data *= ffn_mask[layer_num].unsqueeze(0)\n",
    "\n",
    "    res = predict(model,eval_datasets,step=0,eval_langs=eval_langs,output_dir=output_dir,\n",
    "                   device=device, predict_batch_size=predict_batch_size, head_mask = head_mask, in_lang = None)\n",
    "    # restore intermediate ffn weight TODO\n",
    "    if ffn_mask is not None:\n",
    "        for layer_num in range(n_layers):\n",
    "                layers[layer_num].intermediate.dense.weight.data.copy_(inter_weights[layer_num])\n",
    "                layers[layer_num].intermediate.dense.bias.data.copy_(inter_biases[layer_num])\n",
    "                layers[layer_num].output.dense.weight.data.copy_(output_weights[layer_num])\n",
    "\n",
    "    \n",
    "    if head_mask is not None:\n",
    "        print (head_mask)\n",
    "        print (f\"number of heads: {head_mask.sum()}/{head_mask.view(-1).size(0)}\")\n",
    "        num_heads_per_layer = head_mask.sum(dim=-1)\n",
    "        print (f\"Min/Max number of heads per layer: {num_heads_per_layer.min()}, {num_heads_per_layer.max()}\")\n",
    "    if ffn_mask is not None:\n",
    "        print (f\"ffn size: {ffn_mask.sum()}/{ffn_mask.view(-1).size(0)}\")\n",
    "        ffn_size_per_layer = ffn_mask.sum(dim=-1)\n",
    "        print (f\"Min/Max number of ffn per layer: {ffn_size_per_layer.min()}, {ffn_size_per_layer.max()}\")\n",
    "    print (f\"Performance: {res}\")\n",
    "    metric_filename = os.path.join(output_dir, f'eval_results.txt')\n",
    "    with open(metric_filename,'a') as f:\n",
    "        if head_mask is not None:\n",
    "            line = f\"{head_mask.sum()}/{head_mask.view(-1).size(0)} {res}\\n\"\n",
    "        else:\n",
    "            line = f\"Full-Head {res}\\n\"\n",
    "        f.write(line)"
   ]
  },
  {
   "cell_type": "code",
   "execution_count": 13,
   "metadata": {},
   "outputs": [
    {
     "name": "stderr",
     "output_type": "stream",
     "text": [
      "2021-06-25 11:12:45,264 - INFO - utils - Loading features from cached file /yrfs1/rc/zqyang5/Xtreme/datasets/XNLI/xlmrbase_pruned_test_128_zh.tensor\n"
     ]
    },
    {
     "name": "stdout",
     "output_type": "stream",
     "text": [
      "Init NLIDataset\n"
     ]
    }
   ],
   "source": [
    "from utils import MultilingualNLIDataset\n",
    "from torch.utils.data import DataLoader, SequentialSampler\n",
    "\n",
    "eval_dataset = MultilingualNLIDataset(\n",
    "    task=taskname, data_dir=data_dir, split=split, prefix='xlmrbase_pruned',\n",
    "    max_seq_length=max_seq_length, langs=eval_langs, local_rank=-1, tokenizer=pruned_tokenizer)\n",
    "eval_sampler = SequentialSampler(eval_dataset)\n",
    "eval_dataloader = DataLoader(eval_dataset, sampler=eval_sampler, batch_size=batch_size)\n",
    "eval_datasets = [eval_dataset.lang_datasets[lang] for lang in eval_langs]"
   ]
  },
  {
   "cell_type": "code",
   "execution_count": 9,
   "metadata": {},
   "outputs": [
    {
     "name": "stderr",
     "output_type": "stream",
     "text": [
      "2021-06-25 10:38:59,098 - INFO - predict_function - Predicting...\n",
      "2021-06-25 10:38:59,098 - INFO - predict_function - ***** Running predictions *****\n",
      "2021-06-25 10:38:59,099 - INFO - predict_function -  task name = xnli\n",
      "2021-06-25 10:38:59,099 - INFO - predict_function -  lang : zh\n",
      "2021-06-25 10:38:59,100 - INFO - predict_function -   Num  examples = 5010\n",
      "Evaluating: 100%|██████████| 157/157 [00:53<00:00,  2.95it/s]\n",
      "2021-06-25 10:39:52,360 - INFO - predict_function - ***** Eval results 0 Lang zh *****\n",
      "2021-06-25 10:39:52,361 - INFO - predict_function - zh acc = 0.77964\n"
     ]
    },
    {
     "name": "stdout",
     "output_type": "stream",
     "text": [
      "Performance: {'zh': {'acc': 0.7796407185628742}}\n"
     ]
    }
   ],
   "source": [
    "measure_performance(pruned_model, eval_datasets, eval_langs,output_dir, device, batch_size)"
   ]
  },
  {
   "cell_type": "markdown",
   "metadata": {},
   "source": [
    "# Transformer Pruning"
   ]
  },
  {
   "cell_type": "code",
   "execution_count": 8,
   "metadata": {},
   "outputs": [],
   "source": [
    "# from utils import MultilingualNLIDataset\n",
    "# from torch.utils.data import DataLoader, SequentialSampler\n",
    "\n",
    "# eval_dataset = MultilingualNLIDataset(\n",
    "#     task=taskname, data_dir=data_dir, split=split, prefix='xlmrbase',\n",
    "#     max_seq_length=max_seq_length, langs=eval_langs, local_rank=-1, tokenizer=tokenizer)\n",
    "# eval_sampler = SequentialSampler(eval_dataset)\n",
    "# eval_dataloader = DataLoader(eval_dataset, sampler=eval_sampler, batch_size=batch_size)"
   ]
  },
  {
   "cell_type": "markdown",
   "metadata": {},
   "source": [
    "#### Init Transofmer Pruner"
   ]
  },
  {
   "cell_type": "code",
   "execution_count": 14,
   "metadata": {},
   "outputs": [
    {
     "name": "stderr",
     "output_type": "stream",
     "text": [
      "2021-06-25 11:12:57,897 - INFO - textpruner.configurations - Using current cuda device\n"
     ]
    }
   ],
   "source": [
    "general_config = GeneralConfig()\n",
    "transformer_pruning_config = TransformerPruningConfig(ffn_size=2048, num_of_heads=9)\n",
    "transformer_pruner = TransformerPruner(pruned_model,general_config,transformer_pruning_config=transformer_pruning_config)"
   ]
  },
  {
   "cell_type": "markdown",
   "metadata": {},
   "source": [
    "#### Define aux functions"
   ]
  },
  {
   "cell_type": "code",
   "execution_count": 15,
   "metadata": {},
   "outputs": [],
   "source": [
    "def adaptor(model_outputs, batch):\n",
    "    return {'loss':model_outputs[0]}\n",
    "def batch_postprocessor(batch):\n",
    "    input_ids, attention_mask, token_type_ids, labels = batch\n",
    "    return {'input_ids':input_ids, 'attention_mask':attention_mask, 'token_type_ids':token_type_ids, 'labels':labels}"
   ]
  },
  {
   "cell_type": "code",
   "execution_count": 16,
   "metadata": {},
   "outputs": [
    {
     "name": "stderr",
     "output_type": "stream",
     "text": [
      "2021-06-25 11:13:10,155 - INFO - textpruner.transformer_pruner - Calculating head importance and ffn importance\n",
      "2021-06-25 11:13:10,155 - INFO - textpruner.transformer_pruner - ***** Running Forward and Backward from get_ffn_and_head_importance_score*****\n",
      "2021-06-25 11:13:10,156 - INFO - textpruner.transformer_pruner -  Length of dataloader = 157\n",
      "Evaluating: 100%|██████████| 157/157 [02:30<00:00,  1.04it/s]\n",
      "2021-06-25 11:15:41,140 - INFO - textpruner.transformer_pruner - save...\n",
      "2021-06-25 11:15:41,164 - INFO - textpruner.transformer_pruner - New ffn size:[2048.0, 2048.0, 2048.0, 2048.0, 2048.0, 2048.0, 2048.0, 2048.0, 2048.0, 2048.0, 2048.0, 2048.0]\n",
      "2021-06-25 11:15:41,165 - INFO - textpruner.transformer_pruner - New num heads:[9.0, 9.0, 9.0, 9.0, 9.0, 9.0, 9.0, 9.0, 9.0, 9.0, 9.0, 9.0]\n",
      "2021-06-25 11:15:41,165 - INFO - textpruner.transformer_pruner - Head and ffn masks have been generated, can be accessed via self.head_mask and self.ffn_mask\n"
     ]
    }
   ],
   "source": [
    "transformer_pruner.prune_transformer(dataloader=eval_dataloader,adaptor=adaptor,batch_postprocessor=batch_postprocessor)"
   ]
  },
  {
   "cell_type": "code",
   "execution_count": 17,
   "metadata": {},
   "outputs": [
    {
     "name": "stdout",
     "output_type": "stream",
     "text": [
      "Num_layers:12\n",
      "{0: [1, 9, 10], 1: [5, 6, 11], 2: [4, 8, 11], 3: [2, 4, 6], 4: [5, 7, 10], 5: [3, 5, 6], 6: [1, 4, 11], 7: [1, 3, 11], 8: [0, 9, 11], 9: [2, 6, 7], 10: [4, 10, 11], 11: [1, 4, 5]}\n"
     ]
    }
   ],
   "source": [
    "transformer_pruner.prune_transformer_with_masks(head_mask=transformer_pruner.head_mask,ffn_mask=transformer_pruner.ffn_mask)"
   ]
  },
  {
   "cell_type": "code",
   "execution_count": 15,
   "metadata": {},
   "outputs": [
    {
     "name": "stderr",
     "output_type": "stream",
     "text": [
      "2021-06-25 10:40:19,174 - INFO - textpruner.transformer_pruner - Masks have been saved to ./pruned_models/pruned_Head_FFN_masks\n"
     ]
    }
   ],
   "source": [
    "#transformer_pruner.save_model()\n",
    "transformer_pruner.save_masks()"
   ]
  },
  {
   "cell_type": "markdown",
   "metadata": {},
   "source": [
    "## Measure performance"
   ]
  },
  {
   "cell_type": "code",
   "execution_count": 20,
   "metadata": {},
   "outputs": [
    {
     "name": "stderr",
     "output_type": "stream",
     "text": [
      "2021-06-25 11:17:38,047 - INFO - predict_function - Predicting...\n",
      "2021-06-25 11:17:38,050 - INFO - predict_function - ***** Running predictions *****\n",
      "2021-06-25 11:17:38,050 - INFO - predict_function -  task name = xnli\n",
      "2021-06-25 11:17:38,050 - INFO - predict_function -  lang : zh\n",
      "2021-06-25 11:17:38,051 - INFO - predict_function -   Num  examples = 5010\n",
      "Evaluating: 100%|██████████| 157/157 [00:40<00:00,  3.88it/s]\n",
      "2021-06-25 11:18:18,519 - INFO - predict_function - ***** Eval results 0 Lang zh *****\n",
      "2021-06-25 11:18:18,520 - INFO - predict_function - zh acc = 0.77066\n"
     ]
    },
    {
     "name": "stdout",
     "output_type": "stream",
     "text": [
      "Performance: {'zh': {'acc': 0.7706586826347306}}\n"
     ]
    }
   ],
   "source": [
    "head_mask = torch.tensor(transformer_pruner.head_mask).to(pruned_model.device)\n",
    "ffn_mask = torch.tensor(transformer_pruner.ffn_mask).to(pruned_model.device)\n",
    "measure_performance(pruned_model, eval_datasets, eval_langs,output_dir, device, batch_size) #, ffn_mask=ffn_mask,head_mask =head_mask)"
   ]
  },
  {
   "cell_type": "code",
   "execution_count": 19,
   "metadata": {},
   "outputs": [
    {
     "name": "stdout",
     "output_type": "stream",
     "text": [
      "roberta.embeddings.word_embeddings.weight torch.Size([23553, 768])\n",
      "roberta.embeddings.position_embeddings.weight torch.Size([514, 768])\n",
      "roberta.embeddings.token_type_embeddings.weight torch.Size([1, 768])\n",
      "roberta.embeddings.LayerNorm.weight torch.Size([768])\n",
      "roberta.embeddings.LayerNorm.bias torch.Size([768])\n",
      "roberta.encoder.layer.0.attention.self.query.weight torch.Size([576, 768])\n",
      "roberta.encoder.layer.0.attention.self.query.bias torch.Size([576])\n",
      "roberta.encoder.layer.0.attention.self.key.weight torch.Size([576, 768])\n",
      "roberta.encoder.layer.0.attention.self.key.bias torch.Size([576])\n",
      "roberta.encoder.layer.0.attention.self.value.weight torch.Size([576, 768])\n",
      "roberta.encoder.layer.0.attention.self.value.bias torch.Size([576])\n",
      "roberta.encoder.layer.0.attention.output.dense.weight torch.Size([768, 576])\n",
      "roberta.encoder.layer.0.attention.output.dense.bias torch.Size([768])\n",
      "roberta.encoder.layer.0.attention.output.LayerNorm.weight torch.Size([768])\n",
      "roberta.encoder.layer.0.attention.output.LayerNorm.bias torch.Size([768])\n",
      "roberta.encoder.layer.0.intermediate.dense.weight torch.Size([2048, 768])\n",
      "roberta.encoder.layer.0.intermediate.dense.bias torch.Size([2048])\n",
      "roberta.encoder.layer.0.output.dense.weight torch.Size([768, 2048])\n",
      "roberta.encoder.layer.0.output.dense.bias torch.Size([768])\n",
      "roberta.encoder.layer.0.output.LayerNorm.weight torch.Size([768])\n",
      "roberta.encoder.layer.0.output.LayerNorm.bias torch.Size([768])\n",
      "roberta.encoder.layer.1.attention.self.query.weight torch.Size([576, 768])\n",
      "roberta.encoder.layer.1.attention.self.query.bias torch.Size([576])\n",
      "roberta.encoder.layer.1.attention.self.key.weight torch.Size([576, 768])\n",
      "roberta.encoder.layer.1.attention.self.key.bias torch.Size([576])\n",
      "roberta.encoder.layer.1.attention.self.value.weight torch.Size([576, 768])\n",
      "roberta.encoder.layer.1.attention.self.value.bias torch.Size([576])\n",
      "roberta.encoder.layer.1.attention.output.dense.weight torch.Size([768, 576])\n",
      "roberta.encoder.layer.1.attention.output.dense.bias torch.Size([768])\n",
      "roberta.encoder.layer.1.attention.output.LayerNorm.weight torch.Size([768])\n",
      "roberta.encoder.layer.1.attention.output.LayerNorm.bias torch.Size([768])\n",
      "roberta.encoder.layer.1.intermediate.dense.weight torch.Size([2048, 768])\n",
      "roberta.encoder.layer.1.intermediate.dense.bias torch.Size([2048])\n",
      "roberta.encoder.layer.1.output.dense.weight torch.Size([768, 2048])\n",
      "roberta.encoder.layer.1.output.dense.bias torch.Size([768])\n",
      "roberta.encoder.layer.1.output.LayerNorm.weight torch.Size([768])\n",
      "roberta.encoder.layer.1.output.LayerNorm.bias torch.Size([768])\n",
      "roberta.encoder.layer.2.attention.self.query.weight torch.Size([576, 768])\n",
      "roberta.encoder.layer.2.attention.self.query.bias torch.Size([576])\n",
      "roberta.encoder.layer.2.attention.self.key.weight torch.Size([576, 768])\n",
      "roberta.encoder.layer.2.attention.self.key.bias torch.Size([576])\n",
      "roberta.encoder.layer.2.attention.self.value.weight torch.Size([576, 768])\n",
      "roberta.encoder.layer.2.attention.self.value.bias torch.Size([576])\n",
      "roberta.encoder.layer.2.attention.output.dense.weight torch.Size([768, 576])\n",
      "roberta.encoder.layer.2.attention.output.dense.bias torch.Size([768])\n",
      "roberta.encoder.layer.2.attention.output.LayerNorm.weight torch.Size([768])\n",
      "roberta.encoder.layer.2.attention.output.LayerNorm.bias torch.Size([768])\n",
      "roberta.encoder.layer.2.intermediate.dense.weight torch.Size([2048, 768])\n",
      "roberta.encoder.layer.2.intermediate.dense.bias torch.Size([2048])\n",
      "roberta.encoder.layer.2.output.dense.weight torch.Size([768, 2048])\n",
      "roberta.encoder.layer.2.output.dense.bias torch.Size([768])\n",
      "roberta.encoder.layer.2.output.LayerNorm.weight torch.Size([768])\n",
      "roberta.encoder.layer.2.output.LayerNorm.bias torch.Size([768])\n",
      "roberta.encoder.layer.3.attention.self.query.weight torch.Size([576, 768])\n",
      "roberta.encoder.layer.3.attention.self.query.bias torch.Size([576])\n",
      "roberta.encoder.layer.3.attention.self.key.weight torch.Size([576, 768])\n",
      "roberta.encoder.layer.3.attention.self.key.bias torch.Size([576])\n",
      "roberta.encoder.layer.3.attention.self.value.weight torch.Size([576, 768])\n",
      "roberta.encoder.layer.3.attention.self.value.bias torch.Size([576])\n",
      "roberta.encoder.layer.3.attention.output.dense.weight torch.Size([768, 576])\n",
      "roberta.encoder.layer.3.attention.output.dense.bias torch.Size([768])\n",
      "roberta.encoder.layer.3.attention.output.LayerNorm.weight torch.Size([768])\n",
      "roberta.encoder.layer.3.attention.output.LayerNorm.bias torch.Size([768])\n",
      "roberta.encoder.layer.3.intermediate.dense.weight torch.Size([2048, 768])\n",
      "roberta.encoder.layer.3.intermediate.dense.bias torch.Size([2048])\n",
      "roberta.encoder.layer.3.output.dense.weight torch.Size([768, 2048])\n",
      "roberta.encoder.layer.3.output.dense.bias torch.Size([768])\n",
      "roberta.encoder.layer.3.output.LayerNorm.weight torch.Size([768])\n",
      "roberta.encoder.layer.3.output.LayerNorm.bias torch.Size([768])\n",
      "roberta.encoder.layer.4.attention.self.query.weight torch.Size([576, 768])\n",
      "roberta.encoder.layer.4.attention.self.query.bias torch.Size([576])\n",
      "roberta.encoder.layer.4.attention.self.key.weight torch.Size([576, 768])\n",
      "roberta.encoder.layer.4.attention.self.key.bias torch.Size([576])\n",
      "roberta.encoder.layer.4.attention.self.value.weight torch.Size([576, 768])\n",
      "roberta.encoder.layer.4.attention.self.value.bias torch.Size([576])\n",
      "roberta.encoder.layer.4.attention.output.dense.weight torch.Size([768, 576])\n",
      "roberta.encoder.layer.4.attention.output.dense.bias torch.Size([768])\n",
      "roberta.encoder.layer.4.attention.output.LayerNorm.weight torch.Size([768])\n",
      "roberta.encoder.layer.4.attention.output.LayerNorm.bias torch.Size([768])\n",
      "roberta.encoder.layer.4.intermediate.dense.weight torch.Size([2048, 768])\n",
      "roberta.encoder.layer.4.intermediate.dense.bias torch.Size([2048])\n",
      "roberta.encoder.layer.4.output.dense.weight torch.Size([768, 2048])\n",
      "roberta.encoder.layer.4.output.dense.bias torch.Size([768])\n",
      "roberta.encoder.layer.4.output.LayerNorm.weight torch.Size([768])\n",
      "roberta.encoder.layer.4.output.LayerNorm.bias torch.Size([768])\n",
      "roberta.encoder.layer.5.attention.self.query.weight torch.Size([576, 768])\n",
      "roberta.encoder.layer.5.attention.self.query.bias torch.Size([576])\n",
      "roberta.encoder.layer.5.attention.self.key.weight torch.Size([576, 768])\n",
      "roberta.encoder.layer.5.attention.self.key.bias torch.Size([576])\n",
      "roberta.encoder.layer.5.attention.self.value.weight torch.Size([576, 768])\n",
      "roberta.encoder.layer.5.attention.self.value.bias torch.Size([576])\n",
      "roberta.encoder.layer.5.attention.output.dense.weight torch.Size([768, 576])\n",
      "roberta.encoder.layer.5.attention.output.dense.bias torch.Size([768])\n",
      "roberta.encoder.layer.5.attention.output.LayerNorm.weight torch.Size([768])\n",
      "roberta.encoder.layer.5.attention.output.LayerNorm.bias torch.Size([768])\n",
      "roberta.encoder.layer.5.intermediate.dense.weight torch.Size([2048, 768])\n",
      "roberta.encoder.layer.5.intermediate.dense.bias torch.Size([2048])\n",
      "roberta.encoder.layer.5.output.dense.weight torch.Size([768, 2048])\n",
      "roberta.encoder.layer.5.output.dense.bias torch.Size([768])\n",
      "roberta.encoder.layer.5.output.LayerNorm.weight torch.Size([768])\n",
      "roberta.encoder.layer.5.output.LayerNorm.bias torch.Size([768])\n",
      "roberta.encoder.layer.6.attention.self.query.weight torch.Size([576, 768])\n",
      "roberta.encoder.layer.6.attention.self.query.bias torch.Size([576])\n",
      "roberta.encoder.layer.6.attention.self.key.weight torch.Size([576, 768])\n",
      "roberta.encoder.layer.6.attention.self.key.bias torch.Size([576])\n",
      "roberta.encoder.layer.6.attention.self.value.weight torch.Size([576, 768])\n",
      "roberta.encoder.layer.6.attention.self.value.bias torch.Size([576])\n",
      "roberta.encoder.layer.6.attention.output.dense.weight torch.Size([768, 576])\n",
      "roberta.encoder.layer.6.attention.output.dense.bias torch.Size([768])\n",
      "roberta.encoder.layer.6.attention.output.LayerNorm.weight torch.Size([768])\n",
      "roberta.encoder.layer.6.attention.output.LayerNorm.bias torch.Size([768])\n",
      "roberta.encoder.layer.6.intermediate.dense.weight torch.Size([2048, 768])\n",
      "roberta.encoder.layer.6.intermediate.dense.bias torch.Size([2048])\n",
      "roberta.encoder.layer.6.output.dense.weight torch.Size([768, 2048])\n",
      "roberta.encoder.layer.6.output.dense.bias torch.Size([768])\n",
      "roberta.encoder.layer.6.output.LayerNorm.weight torch.Size([768])\n",
      "roberta.encoder.layer.6.output.LayerNorm.bias torch.Size([768])\n",
      "roberta.encoder.layer.7.attention.self.query.weight torch.Size([576, 768])\n",
      "roberta.encoder.layer.7.attention.self.query.bias torch.Size([576])\n",
      "roberta.encoder.layer.7.attention.self.key.weight torch.Size([576, 768])\n",
      "roberta.encoder.layer.7.attention.self.key.bias torch.Size([576])\n",
      "roberta.encoder.layer.7.attention.self.value.weight torch.Size([576, 768])\n",
      "roberta.encoder.layer.7.attention.self.value.bias torch.Size([576])\n",
      "roberta.encoder.layer.7.attention.output.dense.weight torch.Size([768, 576])\n",
      "roberta.encoder.layer.7.attention.output.dense.bias torch.Size([768])\n",
      "roberta.encoder.layer.7.attention.output.LayerNorm.weight torch.Size([768])\n",
      "roberta.encoder.layer.7.attention.output.LayerNorm.bias torch.Size([768])\n",
      "roberta.encoder.layer.7.intermediate.dense.weight torch.Size([2048, 768])\n",
      "roberta.encoder.layer.7.intermediate.dense.bias torch.Size([2048])\n",
      "roberta.encoder.layer.7.output.dense.weight torch.Size([768, 2048])\n",
      "roberta.encoder.layer.7.output.dense.bias torch.Size([768])\n",
      "roberta.encoder.layer.7.output.LayerNorm.weight torch.Size([768])\n",
      "roberta.encoder.layer.7.output.LayerNorm.bias torch.Size([768])\n",
      "roberta.encoder.layer.8.attention.self.query.weight torch.Size([576, 768])\n",
      "roberta.encoder.layer.8.attention.self.query.bias torch.Size([576])\n",
      "roberta.encoder.layer.8.attention.self.key.weight torch.Size([576, 768])\n",
      "roberta.encoder.layer.8.attention.self.key.bias torch.Size([576])\n",
      "roberta.encoder.layer.8.attention.self.value.weight torch.Size([576, 768])\n",
      "roberta.encoder.layer.8.attention.self.value.bias torch.Size([576])\n",
      "roberta.encoder.layer.8.attention.output.dense.weight torch.Size([768, 576])\n",
      "roberta.encoder.layer.8.attention.output.dense.bias torch.Size([768])\n",
      "roberta.encoder.layer.8.attention.output.LayerNorm.weight torch.Size([768])\n",
      "roberta.encoder.layer.8.attention.output.LayerNorm.bias torch.Size([768])\n",
      "roberta.encoder.layer.8.intermediate.dense.weight torch.Size([2048, 768])\n",
      "roberta.encoder.layer.8.intermediate.dense.bias torch.Size([2048])\n",
      "roberta.encoder.layer.8.output.dense.weight torch.Size([768, 2048])\n",
      "roberta.encoder.layer.8.output.dense.bias torch.Size([768])\n",
      "roberta.encoder.layer.8.output.LayerNorm.weight torch.Size([768])\n",
      "roberta.encoder.layer.8.output.LayerNorm.bias torch.Size([768])\n",
      "roberta.encoder.layer.9.attention.self.query.weight torch.Size([576, 768])\n",
      "roberta.encoder.layer.9.attention.self.query.bias torch.Size([576])\n",
      "roberta.encoder.layer.9.attention.self.key.weight torch.Size([576, 768])\n",
      "roberta.encoder.layer.9.attention.self.key.bias torch.Size([576])\n",
      "roberta.encoder.layer.9.attention.self.value.weight torch.Size([576, 768])\n",
      "roberta.encoder.layer.9.attention.self.value.bias torch.Size([576])\n",
      "roberta.encoder.layer.9.attention.output.dense.weight torch.Size([768, 576])\n",
      "roberta.encoder.layer.9.attention.output.dense.bias torch.Size([768])\n",
      "roberta.encoder.layer.9.attention.output.LayerNorm.weight torch.Size([768])\n",
      "roberta.encoder.layer.9.attention.output.LayerNorm.bias torch.Size([768])\n",
      "roberta.encoder.layer.9.intermediate.dense.weight torch.Size([2048, 768])\n",
      "roberta.encoder.layer.9.intermediate.dense.bias torch.Size([2048])\n",
      "roberta.encoder.layer.9.output.dense.weight torch.Size([768, 2048])\n",
      "roberta.encoder.layer.9.output.dense.bias torch.Size([768])\n",
      "roberta.encoder.layer.9.output.LayerNorm.weight torch.Size([768])\n",
      "roberta.encoder.layer.9.output.LayerNorm.bias torch.Size([768])\n",
      "roberta.encoder.layer.10.attention.self.query.weight torch.Size([576, 768])\n",
      "roberta.encoder.layer.10.attention.self.query.bias torch.Size([576])\n",
      "roberta.encoder.layer.10.attention.self.key.weight torch.Size([576, 768])\n",
      "roberta.encoder.layer.10.attention.self.key.bias torch.Size([576])\n",
      "roberta.encoder.layer.10.attention.self.value.weight torch.Size([576, 768])\n",
      "roberta.encoder.layer.10.attention.self.value.bias torch.Size([576])\n",
      "roberta.encoder.layer.10.attention.output.dense.weight torch.Size([768, 576])\n",
      "roberta.encoder.layer.10.attention.output.dense.bias torch.Size([768])\n",
      "roberta.encoder.layer.10.attention.output.LayerNorm.weight torch.Size([768])\n",
      "roberta.encoder.layer.10.attention.output.LayerNorm.bias torch.Size([768])\n",
      "roberta.encoder.layer.10.intermediate.dense.weight torch.Size([2048, 768])\n",
      "roberta.encoder.layer.10.intermediate.dense.bias torch.Size([2048])\n",
      "roberta.encoder.layer.10.output.dense.weight torch.Size([768, 2048])\n",
      "roberta.encoder.layer.10.output.dense.bias torch.Size([768])\n",
      "roberta.encoder.layer.10.output.LayerNorm.weight torch.Size([768])\n",
      "roberta.encoder.layer.10.output.LayerNorm.bias torch.Size([768])\n",
      "roberta.encoder.layer.11.attention.self.query.weight torch.Size([576, 768])\n",
      "roberta.encoder.layer.11.attention.self.query.bias torch.Size([576])\n",
      "roberta.encoder.layer.11.attention.self.key.weight torch.Size([576, 768])\n",
      "roberta.encoder.layer.11.attention.self.key.bias torch.Size([576])\n",
      "roberta.encoder.layer.11.attention.self.value.weight torch.Size([576, 768])\n",
      "roberta.encoder.layer.11.attention.self.value.bias torch.Size([576])\n",
      "roberta.encoder.layer.11.attention.output.dense.weight torch.Size([768, 576])\n",
      "roberta.encoder.layer.11.attention.output.dense.bias torch.Size([768])\n",
      "roberta.encoder.layer.11.attention.output.LayerNorm.weight torch.Size([768])\n",
      "roberta.encoder.layer.11.attention.output.LayerNorm.bias torch.Size([768])\n",
      "roberta.encoder.layer.11.intermediate.dense.weight torch.Size([2048, 768])\n",
      "roberta.encoder.layer.11.intermediate.dense.bias torch.Size([2048])\n",
      "roberta.encoder.layer.11.output.dense.weight torch.Size([768, 2048])\n",
      "roberta.encoder.layer.11.output.dense.bias torch.Size([768])\n",
      "roberta.encoder.layer.11.output.LayerNorm.weight torch.Size([768])\n",
      "roberta.encoder.layer.11.output.LayerNorm.bias torch.Size([768])\n",
      "roberta.pooler.dense.weight torch.Size([768, 768])\n",
      "roberta.pooler.dense.bias torch.Size([768])\n",
      "classifier.dense.weight torch.Size([768, 768])\n",
      "classifier.dense.bias torch.Size([768])\n",
      "classifier.out_proj.weight torch.Size([3, 768])\n",
      "classifier.out_proj.bias torch.Size([3])\n"
     ]
    }
   ],
   "source": [
    "for k,v in pruned_model.state_dict().items():\n",
    "    print(k,v.shape)"
   ]
  },
  {
   "cell_type": "code",
   "execution_count": 27,
   "metadata": {},
   "outputs": [
    {
     "name": "stderr",
     "output_type": "stream",
     "text": [
      "2021-06-25 10:45:44,075 - INFO - transformers.configuration_utils - Configuration saved in ./pruned_models/pruned_9.0H2048.0FFN/config.json\n",
      "2021-06-25 10:45:44,076 - INFO - textpruner.transformer_pruner - Model and configuration have been saved to ./pruned_models/pruned_9.0H2048.0FFN\n"
     ]
    }
   ],
   "source": [
    "transformer_pruner.save_model()"
   ]
  },
  {
   "cell_type": "code",
   "execution_count": null,
   "metadata": {},
   "outputs": [],
   "source": []
  }
 ],
 "metadata": {
  "kernelspec": {
   "display_name": "Python 3",
   "language": "python",
   "name": "python3"
  },
  "language_info": {
   "codemirror_mode": {
    "name": "ipython",
    "version": 3
   },
   "file_extension": ".py",
   "mimetype": "text/x-python",
   "name": "python",
   "nbconvert_exporter": "python",
   "pygments_lexer": "ipython3",
   "version": "3.7.4"
  }
 },
 "nbformat": 4,
 "nbformat_minor": 2
}
