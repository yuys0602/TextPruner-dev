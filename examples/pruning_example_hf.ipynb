{
 "cells": [
  {
   "cell_type": "code",
   "execution_count": 1,
   "metadata": {},
   "outputs": [],
   "source": [
    "import sys\n",
    "sys.path.append('../src/')\n",
    "from transformers import XLMRobertaTokenizer, XLMRobertaConfig, XLMRobertaForSequenceClassification\n",
    "from textpruner import EmbeddingPruner, TransformerPruner\n",
    "from textpruner import GeneralConfig, EmbeddingPruningConfig, TransformerPruningConfig\n",
    "import torch,os,json,tqdm\n",
    "import logging\n",
    "logger = logging.getLogger(__name__)"
   ]
  },
  {
   "cell_type": "code",
   "execution_count": 2,
   "metadata": {},
   "outputs": [],
   "source": [
    "device='cuda' #'cuda'\n",
    "output_dir='./pruned_models'\n",
    "batch_size=32\n",
    "eval_langs = ['zh']\n",
    "data_dir='/yrfs1/rc/zqyang5/Xtreme/datasets/XNLI'\n",
    "split = 'test'\n",
    "max_seq_length=128\n",
    "taskname='xnli'"
   ]
  },
  {
   "cell_type": "markdown",
   "metadata": {},
   "source": [
    "#### Init Model"
   ]
  },
  {
   "cell_type": "code",
   "execution_count": 3,
   "metadata": {},
   "outputs": [
    {
     "name": "stdout",
     "output_type": "stream",
     "text": [
      "Current Vocab size: 250002\n",
      "Current Embedding size: torch.Size([250002, 768])\n"
     ]
    }
   ],
   "source": [
    "xlmr_vocab_file='./pretrained-models/xlm-r-base/sentencepiece.bpe.model'\n",
    "xlmr_config_file='./pretrained-models/xlm-r-base/config.json'\n",
    "xlmr_classification_ckpt_file ='/work/rc/zqyang5/for_pruning/xnli/xnli_zhTrainXb_lr2e4_s4_bs32/gs49084.pkl'\n",
    "\n",
    "def init_xlmrForSentenceClassification(config_file, vocab_file, ckpt_file, num_labels=3):\n",
    "    tokenizer=XLMRobertaTokenizer(vocab_file=vocab_file)\n",
    "    config=XLMRobertaConfig.from_json_file(config_file)\n",
    "    config.num_labels=num_labels\n",
    "    model = XLMRobertaForSequenceClassification.from_pretrained(ckpt_file,config=config)\n",
    "    return tokenizer,model\n",
    "\n",
    "\n",
    "tokenizer, model = init_xlmrForSentenceClassification(xlmr_config_file, xlmr_vocab_file, \n",
    "            xlmr_classification_ckpt_file,num_labels=3)\n",
    "model.to(device)\n",
    "print(\"Current Vocab size:\",tokenizer.vocab_size)\n",
    "print(\"Current Embedding size:\", model.get_input_embeddings().weight.shape)"
   ]
  },
  {
   "cell_type": "code",
   "execution_count": 4,
   "metadata": {},
   "outputs": [],
   "source": [
    "# from transformers import BertTokenizer \n",
    "# bert_tokenizer = BertTokenizer(vocab_file='/yrfs1/rc/zqyang5/pretrained-models/bert/base_uncased/vocab.txt')\n",
    "# print(tokenizer([(\"Hello world\",\"Goodbye!\")],max_length=10,truncation=True,padding='max_length',return_token_type_ids=True))\n",
    "# print(bert_tokenizer([(\"Hello world\",\"Goodbye!\")],max_length=10,truncation=True,padding='max_length',return_token_type_ids=True))"
   ]
  },
  {
   "cell_type": "markdown",
   "metadata": {},
   "source": [
    "# Embedding Pruning"
   ]
  },
  {
   "cell_type": "markdown",
   "metadata": {},
   "source": [
    "#### Init data: extract sentences from the datasets"
   ]
  },
  {
   "cell_type": "code",
   "execution_count": 5,
   "metadata": {},
   "outputs": [],
   "source": [
    "# def extract_sentences_from_xnli(data_files):\n",
    "#     results = []\n",
    "#     for data_file in data_files:\n",
    "#         with open(data_file,'r',encoding='utf-8') as f:\n",
    "#             lines = f.readlines()\n",
    "#         for line in tqdm.tqdm(lines):\n",
    "#                 fields = line.strip().split('\\t')\n",
    "#                 for field in fields:\n",
    "#                     results.append(field)\n",
    "#     return results\n",
    "\n",
    "# data_files = ['./datasets/multinli.train.zh.tsv']\n",
    "# lines = extract_sentences_from_xnli(data_files)"
   ]
  },
  {
   "cell_type": "markdown",
   "metadata": {},
   "source": [
    "#### Init Embedding Pruner"
   ]
  },
  {
   "cell_type": "code",
   "execution_count": 6,
   "metadata": {
    "scrolled": true
   },
   "outputs": [],
   "source": [
    "# embedding_pruner = EmbeddingPruner(model, tokenizer)\n",
    "# embedding_pruner.prune_embeddings(dataiter=lines)"
   ]
  },
  {
   "cell_type": "code",
   "execution_count": 7,
   "metadata": {},
   "outputs": [],
   "source": [
    "# print(\"New embedding size:\", model.get_input_embeddings().weight.shape)\n",
    "# embedding_pruner.save_model()"
   ]
  },
  {
   "cell_type": "markdown",
   "metadata": {},
   "source": [
    "#### reload"
   ]
  },
  {
   "cell_type": "code",
   "execution_count": 8,
   "metadata": {},
   "outputs": [
    {
     "name": "stdout",
     "output_type": "stream",
     "text": [
      "New vocab size: 23553\n"
     ]
    }
   ],
   "source": [
    "pruned_tokenizer, pruned_model = init_xlmrForSentenceClassification(\n",
    "    config_file='./pruned_models/pruned_23553V/config.json',\n",
    "    vocab_file='./pruned_models/pruned_23553V/sentencepiece.bpe.model',\n",
    "    ckpt_file='./pruned_models/pruned_23553V/model.pkl')\n",
    "\n",
    "pruned_model.to(device)\n",
    "print(\"New vocab size:\", pruned_tokenizer.vocab_size)"
   ]
  },
  {
   "cell_type": "markdown",
   "metadata": {},
   "source": [
    "# Measure Performance"
   ]
  },
  {
   "cell_type": "code",
   "execution_count": 9,
   "metadata": {},
   "outputs": [],
   "source": [
    "from predict_function import predict\n",
    "def measure_performance(model, eval_datasets,eval_langs,output_dir, device, predict_batch_size, head_mask=None, ffn_mask=None):\n",
    "    base_model = getattr(model, model.base_model_prefix, model)\n",
    "    n_layers = base_model.config.num_hidden_layers\n",
    "    inter_weights = []\n",
    "    inter_biases = []\n",
    "    output_weights = []\n",
    "    layers = base_model.encoder.layer\n",
    "    if ffn_mask is not None:\n",
    "        print(\"Masking intermediate FFN\")\n",
    "        for layer_num in range(n_layers):\n",
    "                inter_weights.append(layers[layer_num].intermediate.dense.weight.data.clone()) #.detach().to(device)\n",
    "                inter_biases.append(layers[layer_num].intermediate.dense.bias.data.clone()) #.detach().to(device)\n",
    "                output_weights.append(layers[layer_num].output.dense.weight.data.clone()) #.detach().to(device)\n",
    "                \n",
    "                layers[layer_num].intermediate.dense.weight.data *= ffn_mask[layer_num].unsqueeze(1)\n",
    "                layers[layer_num].intermediate.dense.bias.data *= ffn_mask[layer_num]\n",
    "                layers[layer_num].output.dense.weight.data *= ffn_mask[layer_num].unsqueeze(0)\n",
    "\n",
    "    res = predict(model,eval_datasets,step=0,eval_langs=eval_langs,output_dir=output_dir,\n",
    "                   device=device, predict_batch_size=predict_batch_size, head_mask = head_mask, in_lang = None)\n",
    "    # restore intermediate ffn weight TODO\n",
    "    if ffn_mask is not None:\n",
    "        for layer_num in range(n_layers):\n",
    "                layers[layer_num].intermediate.dense.weight.data.copy_(inter_weights[layer_num])\n",
    "                layers[layer_num].intermediate.dense.bias.data.copy_(inter_biases[layer_num])\n",
    "                layers[layer_num].output.dense.weight.data.copy_(output_weights[layer_num])\n",
    "\n",
    "    \n",
    "    if head_mask is not None:\n",
    "        print (head_mask)\n",
    "        print (f\"number of heads: {head_mask.sum()}/{head_mask.view(-1).size(0)}\")\n",
    "        num_heads_per_layer = head_mask.sum(dim=-1)\n",
    "        print (f\"Min/Max number of heads per layer: {num_heads_per_layer.min()}, {num_heads_per_layer.max()}\")\n",
    "    if ffn_mask is not None:\n",
    "        print (f\"ffn size: {ffn_mask.sum()}/{ffn_mask.view(-1).size(0)}\")\n",
    "        ffn_size_per_layer = ffn_mask.sum(dim=-1)\n",
    "        print (f\"Min/Max number of ffn per layer: {ffn_size_per_layer.min()}, {ffn_size_per_layer.max()}\")\n",
    "    print (f\"Performance: {res}\")\n",
    "    metric_filename = os.path.join(output_dir, f'eval_results.txt')\n",
    "    with open(metric_filename,'a') as f:\n",
    "        if head_mask is not None:\n",
    "            line = f\"{head_mask.sum()}/{head_mask.view(-1).size(0)} {res}\\n\"\n",
    "        else:\n",
    "            line = f\"Full-Head {res}\\n\"\n",
    "        f.write(line)"
   ]
  },
  {
   "cell_type": "code",
   "execution_count": 10,
   "metadata": {},
   "outputs": [
    {
     "name": "stdout",
     "output_type": "stream",
     "text": [
      "Init NLIDataset\n"
     ]
    }
   ],
   "source": [
    "from utils import MultilingualNLIDataset\n",
    "from torch.utils.data import DataLoader, SequentialSampler\n",
    "\n",
    "eval_dataset = MultilingualNLIDataset(\n",
    "    task=taskname, data_dir=data_dir, split=split, prefix='xlmrbase_pruned',\n",
    "    max_seq_length=max_seq_length, langs=eval_langs, local_rank=-1, tokenizer=pruned_tokenizer)\n",
    "eval_sampler = SequentialSampler(eval_dataset)\n",
    "eval_dataloader = DataLoader(eval_dataset, sampler=eval_sampler, batch_size=batch_size)\n",
    "eval_datasets = [eval_dataset.lang_datasets[lang] for lang in eval_langs]"
   ]
  },
  {
   "cell_type": "code",
   "execution_count": 11,
   "metadata": {},
   "outputs": [],
   "source": [
    "# measure_performance(pruned_model, eval_datasets, eval_langs,output_dir, device, batch_size)"
   ]
  },
  {
   "cell_type": "markdown",
   "metadata": {},
   "source": [
    "# Transformer Pruning"
   ]
  },
  {
   "cell_type": "code",
   "execution_count": 12,
   "metadata": {},
   "outputs": [],
   "source": [
    "# from utils import MultilingualNLIDataset\n",
    "# from torch.utils.data import DataLoader, SequentialSampler\n",
    "\n",
    "# eval_dataset = MultilingualNLIDataset(\n",
    "#     task=taskname, data_dir=data_dir, split=split, prefix='xlmrbase',\n",
    "#     max_seq_length=max_seq_length, langs=eval_langs, local_rank=-1, tokenizer=tokenizer)\n",
    "# eval_sampler = SequentialSampler(eval_dataset)\n",
    "# eval_dataloader = DataLoader(eval_dataset, sampler=eval_sampler, batch_size=batch_size)"
   ]
  },
  {
   "cell_type": "markdown",
   "metadata": {},
   "source": [
    "#### Init Transofmer Pruner"
   ]
  },
  {
   "cell_type": "code",
   "execution_count": 13,
   "metadata": {},
   "outputs": [],
   "source": [
    "general_config = GeneralConfig()\n",
    "transformer_pruning_config = TransformerPruningConfig(\n",
    "    ffn_size=2048, num_of_heads=7*12, is_iterative=True, head_is_layerwise=False, n_iter=2)\n",
    "transformer_pruner = TransformerPruner(\n",
    "    pruned_model,general_config,\n",
    "    transformer_pruning_config=transformer_pruning_config)"
   ]
  },
  {
   "cell_type": "markdown",
   "metadata": {},
   "source": [
    "#### Define aux functions"
   ]
  },
  {
   "cell_type": "code",
   "execution_count": 14,
   "metadata": {},
   "outputs": [],
   "source": [
    "def adaptor(model_outputs, batch):\n",
    "    return {'loss':model_outputs[0]}\n",
    "def batch_postprocessor(batch):\n",
    "    input_ids, attention_mask, token_type_ids, labels = batch\n",
    "    return {'input_ids':input_ids, 'attention_mask':attention_mask, \n",
    "            'token_type_ids':token_type_ids, 'labels':labels}"
   ]
  },
  {
   "cell_type": "code",
   "execution_count": 15,
   "metadata": {},
   "outputs": [
    {
     "name": "stderr",
     "output_type": "stream",
     "text": [
      "\r",
      "Evaluating:   0%|          | 0/157 [00:00<?, ?it/s]"
     ]
    },
    {
     "name": "stdout",
     "output_type": "stream",
     "text": [
      "n_iter: 0\n",
      "dffn_size, dnum_of_heads: 36864 144 19456 114\n",
      "Num_layers:12\n",
      "Num_heads:12\n",
      "Num_layers:12\n",
      "Head_size:64\n",
      "{0: [], 1: [5, 6, 11], 2: [8, 11], 3: [2, 4, 5, 6], 4: [], 5: [], 6: [11], 7: [1, 3, 11], 8: [0, 11], 9: [2, 6, 7], 10: [0, 4, 5, 10, 11], 11: [1, 2, 4, 5, 8, 9, 10]}\n",
      "n_iter: 1\n"
     ]
    },
    {
     "name": "stderr",
     "output_type": "stream",
     "text": [
      "Evaluating: 100%|██████████| 157/157 [01:27<00:00,  1.78it/s]\n"
     ]
    },
    {
     "name": "stdout",
     "output_type": "stream",
     "text": [
      "dffn_size, dnum_of_heads: 36864 144 2048 84\n",
      "Num_layers:12\n",
      "{0: [1, 9, 10], 1: [1, 2, 5, 6, 9, 11], 2: [0, 2, 3, 4, 8, 10, 11], 3: [0, 1, 2, 4, 5, 6, 8], 4: [5, 7], 5: [5, 6], 6: [1, 4, 11], 7: [1, 2, 3, 11], 8: [0, 2, 8, 9, 11], 9: [0, 1, 2, 6, 7, 8, 9], 10: [0, 1, 4, 5, 6, 10, 11], 11: [1, 2, 4, 5, 8, 9, 10]}\n"
     ]
    }
   ],
   "source": [
    "#transformer_pruner.prune_transformer_with_masks(head_mask=transformer_pruner.head_mask,ffn_mask=transformer_pruner.ffn_mask)\n",
    "transformer_pruner.prune_transformer(eval_dataloader,adaptor,batch_postprocessor)"
   ]
  },
  {
   "cell_type": "code",
   "execution_count": 16,
   "metadata": {},
   "outputs": [
    {
     "name": "stdout",
     "output_type": "stream",
     "text": [
      "2048.0\n",
      "2048.0\n",
      "2048.0\n"
     ]
    }
   ],
   "source": [
    "print(sum(transformer_pruner.ffn_mask[0].tolist()))\n",
    "print(sum(transformer_pruner.ffn_mask[1].tolist()))\n",
    "print(sum(transformer_pruner.ffn_mask[2].tolist()))"
   ]
  },
  {
   "cell_type": "code",
   "execution_count": 17,
   "metadata": {},
   "outputs": [],
   "source": [
    "transformer_pruner.save_model()\n",
    "#transformer_pruner.save_masks()"
   ]
  },
  {
   "cell_type": "code",
   "execution_count": 18,
   "metadata": {},
   "outputs": [],
   "source": [
    "new_model=XLMRobertaForSequenceClassification.from_pretrained('./pruned_models/pruned_84H2048FFN/model.pkl',config='./pruned_models/pruned_84H2048FFN/config.json')"
   ]
  },
  {
   "cell_type": "markdown",
   "metadata": {},
   "source": [
    "## Measure performance"
   ]
  },
  {
   "cell_type": "code",
   "execution_count": 19,
   "metadata": {},
   "outputs": [
    {
     "name": "stderr",
     "output_type": "stream",
     "text": [
      "Evaluating: 100%|██████████| 157/157 [00:21<00:00,  7.47it/s]"
     ]
    },
    {
     "name": "stdout",
     "output_type": "stream",
     "text": [
      "Performance: {'zh': {'acc': 0.7499001996007985}}\n"
     ]
    },
    {
     "name": "stderr",
     "output_type": "stream",
     "text": [
      "\n"
     ]
    }
   ],
   "source": [
    "new_model.to(device)\n",
    "head_mask = torch.tensor(transformer_pruner.head_mask).to(pruned_model.device)\n",
    "ffn_mask = torch.tensor(transformer_pruner.ffn_mask).to(pruned_model.device)\n",
    "measure_performance(new_model, eval_datasets, eval_langs,output_dir, device, batch_size) #, ffn_mask=ffn_mask,head_mask =head_mask)"
   ]
  },
  {
   "cell_type": "code",
   "execution_count": 20,
   "metadata": {},
   "outputs": [
    {
     "name": "stdout",
     "output_type": "stream",
     "text": [
      "roberta.encoder.layer.0.attention.self.query.weight torch.Size([576, 768])\n",
      "roberta.encoder.layer.0.attention.self.query.bias torch.Size([576])\n",
      "roberta.encoder.layer.0.attention.self.key.weight torch.Size([576, 768])\n",
      "roberta.encoder.layer.0.attention.self.key.bias torch.Size([576])\n",
      "roberta.encoder.layer.0.attention.self.value.weight torch.Size([576, 768])\n",
      "roberta.encoder.layer.0.attention.self.value.bias torch.Size([576])\n",
      "roberta.encoder.layer.0.attention.output.dense.weight torch.Size([768, 576])\n",
      "roberta.encoder.layer.0.attention.output.dense.bias torch.Size([768])\n",
      "roberta.encoder.layer.0.attention.output.LayerNorm.weight torch.Size([768])\n",
      "roberta.encoder.layer.0.attention.output.LayerNorm.bias torch.Size([768])\n",
      "roberta.encoder.layer.1.attention.self.query.weight torch.Size([384, 768])\n",
      "roberta.encoder.layer.1.attention.self.query.bias torch.Size([384])\n",
      "roberta.encoder.layer.1.attention.self.key.weight torch.Size([384, 768])\n",
      "roberta.encoder.layer.1.attention.self.key.bias torch.Size([384])\n",
      "roberta.encoder.layer.1.attention.self.value.weight torch.Size([384, 768])\n",
      "roberta.encoder.layer.1.attention.self.value.bias torch.Size([384])\n",
      "roberta.encoder.layer.1.attention.output.dense.weight torch.Size([768, 384])\n",
      "roberta.encoder.layer.1.attention.output.dense.bias torch.Size([768])\n",
      "roberta.encoder.layer.1.attention.output.LayerNorm.weight torch.Size([768])\n",
      "roberta.encoder.layer.1.attention.output.LayerNorm.bias torch.Size([768])\n",
      "roberta.encoder.layer.2.attention.self.query.weight torch.Size([320, 768])\n",
      "roberta.encoder.layer.2.attention.self.query.bias torch.Size([320])\n",
      "roberta.encoder.layer.2.attention.self.key.weight torch.Size([320, 768])\n",
      "roberta.encoder.layer.2.attention.self.key.bias torch.Size([320])\n",
      "roberta.encoder.layer.2.attention.self.value.weight torch.Size([320, 768])\n",
      "roberta.encoder.layer.2.attention.self.value.bias torch.Size([320])\n",
      "roberta.encoder.layer.2.attention.output.dense.weight torch.Size([768, 320])\n",
      "roberta.encoder.layer.2.attention.output.dense.bias torch.Size([768])\n",
      "roberta.encoder.layer.2.attention.output.LayerNorm.weight torch.Size([768])\n",
      "roberta.encoder.layer.2.attention.output.LayerNorm.bias torch.Size([768])\n",
      "roberta.encoder.layer.3.attention.self.query.weight torch.Size([320, 768])\n",
      "roberta.encoder.layer.3.attention.self.query.bias torch.Size([320])\n",
      "roberta.encoder.layer.3.attention.self.key.weight torch.Size([320, 768])\n",
      "roberta.encoder.layer.3.attention.self.key.bias torch.Size([320])\n",
      "roberta.encoder.layer.3.attention.self.value.weight torch.Size([320, 768])\n",
      "roberta.encoder.layer.3.attention.self.value.bias torch.Size([320])\n",
      "roberta.encoder.layer.3.attention.output.dense.weight torch.Size([768, 320])\n",
      "roberta.encoder.layer.3.attention.output.dense.bias torch.Size([768])\n",
      "roberta.encoder.layer.3.attention.output.LayerNorm.weight torch.Size([768])\n",
      "roberta.encoder.layer.3.attention.output.LayerNorm.bias torch.Size([768])\n",
      "roberta.encoder.layer.4.attention.self.query.weight torch.Size([640, 768])\n",
      "roberta.encoder.layer.4.attention.self.query.bias torch.Size([640])\n",
      "roberta.encoder.layer.4.attention.self.key.weight torch.Size([640, 768])\n",
      "roberta.encoder.layer.4.attention.self.key.bias torch.Size([640])\n",
      "roberta.encoder.layer.4.attention.self.value.weight torch.Size([640, 768])\n",
      "roberta.encoder.layer.4.attention.self.value.bias torch.Size([640])\n",
      "roberta.encoder.layer.4.attention.output.dense.weight torch.Size([768, 640])\n",
      "roberta.encoder.layer.4.attention.output.dense.bias torch.Size([768])\n",
      "roberta.encoder.layer.4.attention.output.LayerNorm.weight torch.Size([768])\n",
      "roberta.encoder.layer.4.attention.output.LayerNorm.bias torch.Size([768])\n",
      "roberta.encoder.layer.5.attention.self.query.weight torch.Size([640, 768])\n",
      "roberta.encoder.layer.5.attention.self.query.bias torch.Size([640])\n",
      "roberta.encoder.layer.5.attention.self.key.weight torch.Size([640, 768])\n",
      "roberta.encoder.layer.5.attention.self.key.bias torch.Size([640])\n",
      "roberta.encoder.layer.5.attention.self.value.weight torch.Size([640, 768])\n",
      "roberta.encoder.layer.5.attention.self.value.bias torch.Size([640])\n",
      "roberta.encoder.layer.5.attention.output.dense.weight torch.Size([768, 640])\n",
      "roberta.encoder.layer.5.attention.output.dense.bias torch.Size([768])\n",
      "roberta.encoder.layer.5.attention.output.LayerNorm.weight torch.Size([768])\n",
      "roberta.encoder.layer.5.attention.output.LayerNorm.bias torch.Size([768])\n",
      "roberta.encoder.layer.6.attention.self.query.weight torch.Size([576, 768])\n",
      "roberta.encoder.layer.6.attention.self.query.bias torch.Size([576])\n",
      "roberta.encoder.layer.6.attention.self.key.weight torch.Size([576, 768])\n",
      "roberta.encoder.layer.6.attention.self.key.bias torch.Size([576])\n",
      "roberta.encoder.layer.6.attention.self.value.weight torch.Size([576, 768])\n",
      "roberta.encoder.layer.6.attention.self.value.bias torch.Size([576])\n",
      "roberta.encoder.layer.6.attention.output.dense.weight torch.Size([768, 576])\n",
      "roberta.encoder.layer.6.attention.output.dense.bias torch.Size([768])\n",
      "roberta.encoder.layer.6.attention.output.LayerNorm.weight torch.Size([768])\n",
      "roberta.encoder.layer.6.attention.output.LayerNorm.bias torch.Size([768])\n",
      "roberta.encoder.layer.7.attention.self.query.weight torch.Size([512, 768])\n",
      "roberta.encoder.layer.7.attention.self.query.bias torch.Size([512])\n",
      "roberta.encoder.layer.7.attention.self.key.weight torch.Size([512, 768])\n",
      "roberta.encoder.layer.7.attention.self.key.bias torch.Size([512])\n",
      "roberta.encoder.layer.7.attention.self.value.weight torch.Size([512, 768])\n",
      "roberta.encoder.layer.7.attention.self.value.bias torch.Size([512])\n",
      "roberta.encoder.layer.7.attention.output.dense.weight torch.Size([768, 512])\n",
      "roberta.encoder.layer.7.attention.output.dense.bias torch.Size([768])\n",
      "roberta.encoder.layer.7.attention.output.LayerNorm.weight torch.Size([768])\n",
      "roberta.encoder.layer.7.attention.output.LayerNorm.bias torch.Size([768])\n",
      "roberta.encoder.layer.8.attention.self.query.weight torch.Size([448, 768])\n",
      "roberta.encoder.layer.8.attention.self.query.bias torch.Size([448])\n",
      "roberta.encoder.layer.8.attention.self.key.weight torch.Size([448, 768])\n",
      "roberta.encoder.layer.8.attention.self.key.bias torch.Size([448])\n",
      "roberta.encoder.layer.8.attention.self.value.weight torch.Size([448, 768])\n",
      "roberta.encoder.layer.8.attention.self.value.bias torch.Size([448])\n",
      "roberta.encoder.layer.8.attention.output.dense.weight torch.Size([768, 448])\n",
      "roberta.encoder.layer.8.attention.output.dense.bias torch.Size([768])\n",
      "roberta.encoder.layer.8.attention.output.LayerNorm.weight torch.Size([768])\n",
      "roberta.encoder.layer.8.attention.output.LayerNorm.bias torch.Size([768])\n",
      "roberta.encoder.layer.9.attention.self.query.weight torch.Size([320, 768])\n",
      "roberta.encoder.layer.9.attention.self.query.bias torch.Size([320])\n",
      "roberta.encoder.layer.9.attention.self.key.weight torch.Size([320, 768])\n",
      "roberta.encoder.layer.9.attention.self.key.bias torch.Size([320])\n",
      "roberta.encoder.layer.9.attention.self.value.weight torch.Size([320, 768])\n",
      "roberta.encoder.layer.9.attention.self.value.bias torch.Size([320])\n",
      "roberta.encoder.layer.9.attention.output.dense.weight torch.Size([768, 320])\n",
      "roberta.encoder.layer.9.attention.output.dense.bias torch.Size([768])\n",
      "roberta.encoder.layer.9.attention.output.LayerNorm.weight torch.Size([768])\n",
      "roberta.encoder.layer.9.attention.output.LayerNorm.bias torch.Size([768])\n",
      "roberta.encoder.layer.10.attention.self.query.weight torch.Size([320, 768])\n",
      "roberta.encoder.layer.10.attention.self.query.bias torch.Size([320])\n",
      "roberta.encoder.layer.10.attention.self.key.weight torch.Size([320, 768])\n",
      "roberta.encoder.layer.10.attention.self.key.bias torch.Size([320])\n",
      "roberta.encoder.layer.10.attention.self.value.weight torch.Size([320, 768])\n",
      "roberta.encoder.layer.10.attention.self.value.bias torch.Size([320])\n",
      "roberta.encoder.layer.10.attention.output.dense.weight torch.Size([768, 320])\n",
      "roberta.encoder.layer.10.attention.output.dense.bias torch.Size([768])\n",
      "roberta.encoder.layer.10.attention.output.LayerNorm.weight torch.Size([768])\n",
      "roberta.encoder.layer.10.attention.output.LayerNorm.bias torch.Size([768])\n",
      "roberta.encoder.layer.11.attention.self.query.weight torch.Size([320, 768])\n",
      "roberta.encoder.layer.11.attention.self.query.bias torch.Size([320])\n",
      "roberta.encoder.layer.11.attention.self.key.weight torch.Size([320, 768])\n",
      "roberta.encoder.layer.11.attention.self.key.bias torch.Size([320])\n",
      "roberta.encoder.layer.11.attention.self.value.weight torch.Size([320, 768])\n",
      "roberta.encoder.layer.11.attention.self.value.bias torch.Size([320])\n",
      "roberta.encoder.layer.11.attention.output.dense.weight torch.Size([768, 320])\n",
      "roberta.encoder.layer.11.attention.output.dense.bias torch.Size([768])\n",
      "roberta.encoder.layer.11.attention.output.LayerNorm.weight torch.Size([768])\n",
      "roberta.encoder.layer.11.attention.output.LayerNorm.bias torch.Size([768])\n"
     ]
    }
   ],
   "source": [
    "for k,v in pruned_model.state_dict().items():\n",
    "    if 'attention' in k: \n",
    "        print(k,v.shape)"
   ]
  },
  {
   "cell_type": "code",
   "execution_count": null,
   "metadata": {},
   "outputs": [],
   "source": []
  }
 ],
 "metadata": {
  "kernelspec": {
   "display_name": "Python 3",
   "language": "python",
   "name": "python3"
  },
  "language_info": {
   "codemirror_mode": {
    "name": "ipython",
    "version": 3
   },
   "file_extension": ".py",
   "mimetype": "text/x-python",
   "name": "python",
   "nbconvert_exporter": "python",
   "pygments_lexer": "ipython3",
   "version": "3.7.0"
  }
 },
 "nbformat": 4,
 "nbformat_minor": 2
}
